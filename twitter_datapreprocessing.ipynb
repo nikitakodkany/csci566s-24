{
 "cells": [
  {
   "cell_type": "code",
   "execution_count": 13,
   "metadata": {},
   "outputs": [],
   "source": [
    "import glob\n",
    "import pandas as pd"
   ]
  },
  {
   "cell_type": "code",
   "execution_count": 14,
   "metadata": {},
   "outputs": [],
   "source": [
    "folder_path = './all_dataset/'\n",
    "csv_files = glob.glob(folder_path + '*.csv')\n",
    "dfs = [pd.read_csv(f) for f in csv_files]\n",
    "combined_df = pd.concat(dfs, ignore_index=True)\n"
   ]
  },
  {
   "cell_type": "code",
   "execution_count": 15,
   "metadata": {},
   "outputs": [],
   "source": [
    "columns_mapping = {\n",
    "    'tweets': 'Tweets',\n",
    "    'tweet': 'Tweets',\n",
    "    'Tweet': 'Tweets',\n",
    "    'Cleaned_Tweets': 'Tweets',\n",
    "    'Likes': 'Number of Likes',\n",
    "    'likes_count': 'Number of Likes',\n",
    "    'retweets_count': 'Retweets',\n",
    "    'retweets': 'Retweets',\n",
    "    'Date Created' : 'date'\n",
    "}\n",
    "\n",
    "for source_column, target_column in columns_mapping.items():\n",
    "    if source_column in combined_df.columns:\n",
    "        combined_df[target_column] = combined_df[source_column]\n",
    "\n",
    "combined_df.drop(columns=columns_mapping.keys(), inplace=True)"
   ]
  },
  {
   "cell_type": "code",
   "execution_count": 16,
   "metadata": {},
   "outputs": [],
   "source": [
    "columns_to_remove = [\n",
    "    'UserScreenName', 'Source of Tweet', 'UserName', 'Timestamp', 'text', \n",
    "    'Emojis', 'Image link', 'Tweet URL', 'id', 'conversation_id', 'created_at', \n",
    "    'time', 'timezone', 'user_id', 'username', 'name', 'place', 'urls', 'photos', \n",
    "    'cashtags', 'link', 'retweet', 'quote_url', 'video', 'near', 'geo', 'source', \n",
    "    'user_rt_id', 'user_rt', 'retweet_id', 'reply_to', 'retweet_date', 'translate', \n",
    "    'trans_src', 'trans_dest', 'Datetime', 'Tweet Id', 'Text', 'Username', 'Date', \n",
    "    'user_name', 'user_location', 'user_description', 'user_created', 'user_followers', \n",
    "    'user_friends', 'user_favourites', 'user_verified', 'favorites', 'language', \n",
    "    'thumbnail', 'Name', 'Bio', 'Location', 'Followers_count', 'Friends_count', \n",
    "    'Unnamed: 0', 'sentiment', 'is_retweet','hashtags']\n",
    "\n",
    "combined_df = combined_df.drop(columns=columns_to_remove)"
   ]
  },
  {
   "cell_type": "code",
   "execution_count": 20,
   "metadata": {},
   "outputs": [],
   "source": [
    "column_name_mapping = {\n",
    "    'Number of Likes': 'likes_count',\n",
    "    'Tweets': 'tweets',\n",
    "    'Retweets': 'retweets_count',\n",
    "    'Comments': 'comments_count',\n",
    "    'Date Created' : 'date'\n",
    "}\n",
    "\n",
    "combined_df = combined_df.rename(columns=column_name_mapping)"
   ]
  },
  {
   "cell_type": "code",
   "execution_count": 19,
   "metadata": {},
   "outputs": [],
   "source": [
    "combined_df.to_csv('output.csv', index=False) "
   ]
  }
 ],
 "metadata": {
  "kernelspec": {
   "display_name": "Python 3",
   "language": "python",
   "name": "python3"
  },
  "language_info": {
   "codemirror_mode": {
    "name": "ipython",
    "version": 3
   },
   "file_extension": ".py",
   "mimetype": "text/x-python",
   "name": "python",
   "nbconvert_exporter": "python",
   "pygments_lexer": "ipython3",
   "version": "3.8.8"
  }
 },
 "nbformat": 4,
 "nbformat_minor": 2
}
