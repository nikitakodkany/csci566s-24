{
  "nbformat": 4,
  "nbformat_minor": 0,
  "metadata": {
    "colab": {
      "provenance": []
    },
    "kernelspec": {
      "name": "python3",
      "display_name": "Python 3"
    },
    "language_info": {
      "name": "python"
    }
  },
  "cells": [
    {
      "cell_type": "code",
      "source": [
        "!python -m pip install -U sentence-transformers"
      ],
      "metadata": {
        "colab": {
          "base_uri": "https://localhost:8080/"
        },
        "id": "kUN3F-XE1dqr",
        "outputId": "38d5f67f-aa91-48bc-bbc6-a0b7e1cc0450"
      },
      "execution_count": 12,
      "outputs": [
        {
          "output_type": "stream",
          "name": "stdout",
          "text": [
            "Collecting sentence-transformers\n",
            "  Downloading sentence_transformers-2.5.1-py3-none-any.whl (156 kB)\n",
            "\u001b[2K     \u001b[90m━━━━━━━━━━━━━━━━━━━━━━━━━━━━━━━━━━━━━━━━\u001b[0m \u001b[32m156.5/156.5 kB\u001b[0m \u001b[31m2.7 MB/s\u001b[0m eta \u001b[36m0:00:00\u001b[0m\n",
            "\u001b[?25hRequirement already satisfied: transformers<5.0.0,>=4.32.0 in /usr/local/lib/python3.10/dist-packages (from sentence-transformers) (4.38.2)\n",
            "Requirement already satisfied: tqdm in /usr/local/lib/python3.10/dist-packages (from sentence-transformers) (4.66.2)\n",
            "Requirement already satisfied: torch>=1.11.0 in /usr/local/lib/python3.10/dist-packages (from sentence-transformers) (2.2.1+cu121)\n",
            "Requirement already satisfied: numpy in /usr/local/lib/python3.10/dist-packages (from sentence-transformers) (1.25.2)\n",
            "Requirement already satisfied: scikit-learn in /usr/local/lib/python3.10/dist-packages (from sentence-transformers) (1.2.2)\n",
            "Requirement already satisfied: scipy in /usr/local/lib/python3.10/dist-packages (from sentence-transformers) (1.11.4)\n",
            "Requirement already satisfied: huggingface-hub>=0.15.1 in /usr/local/lib/python3.10/dist-packages (from sentence-transformers) (0.20.3)\n",
            "Requirement already satisfied: Pillow in /usr/local/lib/python3.10/dist-packages (from sentence-transformers) (9.4.0)\n",
            "Requirement already satisfied: filelock in /usr/local/lib/python3.10/dist-packages (from huggingface-hub>=0.15.1->sentence-transformers) (3.13.1)\n",
            "Requirement already satisfied: fsspec>=2023.5.0 in /usr/local/lib/python3.10/dist-packages (from huggingface-hub>=0.15.1->sentence-transformers) (2023.6.0)\n",
            "Requirement already satisfied: requests in /usr/local/lib/python3.10/dist-packages (from huggingface-hub>=0.15.1->sentence-transformers) (2.31.0)\n",
            "Requirement already satisfied: pyyaml>=5.1 in /usr/local/lib/python3.10/dist-packages (from huggingface-hub>=0.15.1->sentence-transformers) (6.0.1)\n",
            "Requirement already satisfied: typing-extensions>=3.7.4.3 in /usr/local/lib/python3.10/dist-packages (from huggingface-hub>=0.15.1->sentence-transformers) (4.10.0)\n",
            "Requirement already satisfied: packaging>=20.9 in /usr/local/lib/python3.10/dist-packages (from huggingface-hub>=0.15.1->sentence-transformers) (24.0)\n",
            "Requirement already satisfied: sympy in /usr/local/lib/python3.10/dist-packages (from torch>=1.11.0->sentence-transformers) (1.12)\n",
            "Requirement already satisfied: networkx in /usr/local/lib/python3.10/dist-packages (from torch>=1.11.0->sentence-transformers) (3.2.1)\n",
            "Requirement already satisfied: jinja2 in /usr/local/lib/python3.10/dist-packages (from torch>=1.11.0->sentence-transformers) (3.1.3)\n",
            "Collecting nvidia-cuda-nvrtc-cu12==12.1.105 (from torch>=1.11.0->sentence-transformers)\n",
            "  Downloading nvidia_cuda_nvrtc_cu12-12.1.105-py3-none-manylinux1_x86_64.whl (23.7 MB)\n",
            "\u001b[2K     \u001b[90m━━━━━━━━━━━━━━━━━━━━━━━━━━━━━━━━━━━━━━━━\u001b[0m \u001b[32m23.7/23.7 MB\u001b[0m \u001b[31m25.6 MB/s\u001b[0m eta \u001b[36m0:00:00\u001b[0m\n",
            "\u001b[?25hCollecting nvidia-cuda-runtime-cu12==12.1.105 (from torch>=1.11.0->sentence-transformers)\n",
            "  Downloading nvidia_cuda_runtime_cu12-12.1.105-py3-none-manylinux1_x86_64.whl (823 kB)\n",
            "\u001b[2K     \u001b[90m━━━━━━━━━━━━━━━━━━━━━━━━━━━━━━━━━━━━━━━━\u001b[0m \u001b[32m823.6/823.6 kB\u001b[0m \u001b[31m33.6 MB/s\u001b[0m eta \u001b[36m0:00:00\u001b[0m\n",
            "\u001b[?25hCollecting nvidia-cuda-cupti-cu12==12.1.105 (from torch>=1.11.0->sentence-transformers)\n",
            "  Downloading nvidia_cuda_cupti_cu12-12.1.105-py3-none-manylinux1_x86_64.whl (14.1 MB)\n",
            "\u001b[2K     \u001b[90m━━━━━━━━━━━━━━━━━━━━━━━━━━━━━━━━━━━━━━━━\u001b[0m \u001b[32m14.1/14.1 MB\u001b[0m \u001b[31m23.5 MB/s\u001b[0m eta \u001b[36m0:00:00\u001b[0m\n",
            "\u001b[?25hCollecting nvidia-cudnn-cu12==8.9.2.26 (from torch>=1.11.0->sentence-transformers)\n",
            "  Downloading nvidia_cudnn_cu12-8.9.2.26-py3-none-manylinux1_x86_64.whl (731.7 MB)\n",
            "\u001b[2K     \u001b[90m━━━━━━━━━━━━━━━━━━━━━━━━━━━━━━━━━━━━━━━━\u001b[0m \u001b[32m731.7/731.7 MB\u001b[0m \u001b[31m1.7 MB/s\u001b[0m eta \u001b[36m0:00:00\u001b[0m\n",
            "\u001b[?25hCollecting nvidia-cublas-cu12==12.1.3.1 (from torch>=1.11.0->sentence-transformers)\n",
            "  Downloading nvidia_cublas_cu12-12.1.3.1-py3-none-manylinux1_x86_64.whl (410.6 MB)\n",
            "\u001b[2K     \u001b[90m━━━━━━━━━━━━━━━━━━━━━━━━━━━━━━━━━━━━━━━━\u001b[0m \u001b[32m410.6/410.6 MB\u001b[0m \u001b[31m1.8 MB/s\u001b[0m eta \u001b[36m0:00:00\u001b[0m\n",
            "\u001b[?25hCollecting nvidia-cufft-cu12==11.0.2.54 (from torch>=1.11.0->sentence-transformers)\n",
            "  Downloading nvidia_cufft_cu12-11.0.2.54-py3-none-manylinux1_x86_64.whl (121.6 MB)\n",
            "\u001b[2K     \u001b[90m━━━━━━━━━━━━━━━━━━━━━━━━━━━━━━━━━━━━━━━━\u001b[0m \u001b[32m121.6/121.6 MB\u001b[0m \u001b[31m2.2 MB/s\u001b[0m eta \u001b[36m0:00:00\u001b[0m\n",
            "\u001b[?25hCollecting nvidia-curand-cu12==10.3.2.106 (from torch>=1.11.0->sentence-transformers)\n",
            "  Downloading nvidia_curand_cu12-10.3.2.106-py3-none-manylinux1_x86_64.whl (56.5 MB)\n",
            "\u001b[2K     \u001b[90m━━━━━━━━━━━━━━━━━━━━━━━━━━━━━━━━━━━━━━━━\u001b[0m \u001b[32m56.5/56.5 MB\u001b[0m \u001b[31m17.0 MB/s\u001b[0m eta \u001b[36m0:00:00\u001b[0m\n",
            "\u001b[?25hCollecting nvidia-cusolver-cu12==11.4.5.107 (from torch>=1.11.0->sentence-transformers)\n",
            "  Downloading nvidia_cusolver_cu12-11.4.5.107-py3-none-manylinux1_x86_64.whl (124.2 MB)\n",
            "\u001b[2K     \u001b[90m━━━━━━━━━━━━━━━━━━━━━━━━━━━━━━━━━━━━━━━━\u001b[0m \u001b[32m124.2/124.2 MB\u001b[0m \u001b[31m2.0 MB/s\u001b[0m eta \u001b[36m0:00:00\u001b[0m\n",
            "\u001b[?25hCollecting nvidia-cusparse-cu12==12.1.0.106 (from torch>=1.11.0->sentence-transformers)\n",
            "  Downloading nvidia_cusparse_cu12-12.1.0.106-py3-none-manylinux1_x86_64.whl (196.0 MB)\n",
            "\u001b[2K     \u001b[90m━━━━━━━━━━━━━━━━━━━━━━━━━━━━━━━━━━━━━━━━\u001b[0m \u001b[32m196.0/196.0 MB\u001b[0m \u001b[31m2.1 MB/s\u001b[0m eta \u001b[36m0:00:00\u001b[0m\n",
            "\u001b[?25hCollecting nvidia-nccl-cu12==2.19.3 (from torch>=1.11.0->sentence-transformers)\n",
            "  Downloading nvidia_nccl_cu12-2.19.3-py3-none-manylinux1_x86_64.whl (166.0 MB)\n",
            "\u001b[2K     \u001b[90m━━━━━━━━━━━━━━━━━━━━━━━━━━━━━━━━━━━━━━━━\u001b[0m \u001b[32m166.0/166.0 MB\u001b[0m \u001b[31m5.2 MB/s\u001b[0m eta \u001b[36m0:00:00\u001b[0m\n",
            "\u001b[?25hCollecting nvidia-nvtx-cu12==12.1.105 (from torch>=1.11.0->sentence-transformers)\n",
            "  Downloading nvidia_nvtx_cu12-12.1.105-py3-none-manylinux1_x86_64.whl (99 kB)\n",
            "\u001b[2K     \u001b[90m━━━━━━━━━━━━━━━━━━━━━━━━━━━━━━━━━━━━━━━━\u001b[0m \u001b[32m99.1/99.1 kB\u001b[0m \u001b[31m11.7 MB/s\u001b[0m eta \u001b[36m0:00:00\u001b[0m\n",
            "\u001b[?25hRequirement already satisfied: triton==2.2.0 in /usr/local/lib/python3.10/dist-packages (from torch>=1.11.0->sentence-transformers) (2.2.0)\n",
            "Collecting nvidia-nvjitlink-cu12 (from nvidia-cusolver-cu12==11.4.5.107->torch>=1.11.0->sentence-transformers)\n",
            "  Downloading nvidia_nvjitlink_cu12-12.4.99-py3-none-manylinux2014_x86_64.whl (21.1 MB)\n",
            "\u001b[2K     \u001b[90m━━━━━━━━━━━━━━━━━━━━━━━━━━━━━━━━━━━━━━━━\u001b[0m \u001b[32m21.1/21.1 MB\u001b[0m \u001b[31m33.7 MB/s\u001b[0m eta \u001b[36m0:00:00\u001b[0m\n",
            "\u001b[?25hRequirement already satisfied: regex!=2019.12.17 in /usr/local/lib/python3.10/dist-packages (from transformers<5.0.0,>=4.32.0->sentence-transformers) (2023.12.25)\n",
            "Requirement already satisfied: tokenizers<0.19,>=0.14 in /usr/local/lib/python3.10/dist-packages (from transformers<5.0.0,>=4.32.0->sentence-transformers) (0.15.2)\n",
            "Requirement already satisfied: safetensors>=0.4.1 in /usr/local/lib/python3.10/dist-packages (from transformers<5.0.0,>=4.32.0->sentence-transformers) (0.4.2)\n",
            "Requirement already satisfied: joblib>=1.1.1 in /usr/local/lib/python3.10/dist-packages (from scikit-learn->sentence-transformers) (1.3.2)\n",
            "Requirement already satisfied: threadpoolctl>=2.0.0 in /usr/local/lib/python3.10/dist-packages (from scikit-learn->sentence-transformers) (3.3.0)\n",
            "Requirement already satisfied: MarkupSafe>=2.0 in /usr/local/lib/python3.10/dist-packages (from jinja2->torch>=1.11.0->sentence-transformers) (2.1.5)\n",
            "Requirement already satisfied: charset-normalizer<4,>=2 in /usr/local/lib/python3.10/dist-packages (from requests->huggingface-hub>=0.15.1->sentence-transformers) (3.3.2)\n",
            "Requirement already satisfied: idna<4,>=2.5 in /usr/local/lib/python3.10/dist-packages (from requests->huggingface-hub>=0.15.1->sentence-transformers) (3.6)\n",
            "Requirement already satisfied: urllib3<3,>=1.21.1 in /usr/local/lib/python3.10/dist-packages (from requests->huggingface-hub>=0.15.1->sentence-transformers) (2.0.7)\n",
            "Requirement already satisfied: certifi>=2017.4.17 in /usr/local/lib/python3.10/dist-packages (from requests->huggingface-hub>=0.15.1->sentence-transformers) (2024.2.2)\n",
            "Requirement already satisfied: mpmath>=0.19 in /usr/local/lib/python3.10/dist-packages (from sympy->torch>=1.11.0->sentence-transformers) (1.3.0)\n",
            "Installing collected packages: nvidia-nvtx-cu12, nvidia-nvjitlink-cu12, nvidia-nccl-cu12, nvidia-curand-cu12, nvidia-cufft-cu12, nvidia-cuda-runtime-cu12, nvidia-cuda-nvrtc-cu12, nvidia-cuda-cupti-cu12, nvidia-cublas-cu12, nvidia-cusparse-cu12, nvidia-cudnn-cu12, nvidia-cusolver-cu12, sentence-transformers\n",
            "Successfully installed nvidia-cublas-cu12-12.1.3.1 nvidia-cuda-cupti-cu12-12.1.105 nvidia-cuda-nvrtc-cu12-12.1.105 nvidia-cuda-runtime-cu12-12.1.105 nvidia-cudnn-cu12-8.9.2.26 nvidia-cufft-cu12-11.0.2.54 nvidia-curand-cu12-10.3.2.106 nvidia-cusolver-cu12-11.4.5.107 nvidia-cusparse-cu12-12.1.0.106 nvidia-nccl-cu12-2.19.3 nvidia-nvjitlink-cu12-12.4.99 nvidia-nvtx-cu12-12.1.105 sentence-transformers-2.5.1\n"
          ]
        }
      ]
    },
    {
      "cell_type": "code",
      "source": [
        "import numpy as np\n",
        "from typing import Dict"
      ],
      "metadata": {
        "id": "aKCF9Q56ue-G"
      },
      "execution_count": 1,
      "outputs": []
    },
    {
      "cell_type": "code",
      "execution_count": 32,
      "metadata": {
        "id": "mmpWO07qaY1q"
      },
      "outputs": [],
      "source": [
        "import torch\n",
        "import torch.nn as nn\n",
        "from transformers import AutoModel, AutoTokenizer, AutoModelForSequenceClassification\n",
        "from sentence_transformers import SentenceTransformer\n",
        "\n",
        "\n",
        "class PreDUNES(nn.Module):\n",
        "    def __init__(\n",
        "            self,\n",
        "            twitter_embedding_model: nn.Module,\n",
        "            twitter_sentiment_tokenizer,\n",
        "            twitter_sentiment_model: nn.Module,\n",
        "            reddit_sentiment_tokenizer,\n",
        "            reddit_sentiment_model: nn.Module,\n",
        "            twitter_sector_tokenizer,\n",
        "            twitter_sector_model: nn.Module\n",
        "        ):\n",
        "        '''\n",
        "        Initialize a DUNES model from a set of embeddings and sentiment models.\n",
        "        Args:\n",
        "            twitter_embedding_model: huggingface model for Twitter embeddings\n",
        "            twitter_sentiment_model: huggingface model for Twitter sentiment\n",
        "            reddit_sentiment_model: huggingface model for Reddit sentiment\n",
        "            twitter_sector_model: huggingface model for Twitter sector\n",
        "        '''\n",
        "        super(PreDUNES, self).__init__()\n",
        "        self.twitter_embedding_model = twitter_embedding_model\n",
        "        self.twitter_sentiment_tokenizer = twitter_sentiment_tokenizer\n",
        "        self.twitter_sentiment_model = twitter_sentiment_model\n",
        "        self.reddit_sentiment_tokenizer = reddit_sentiment_tokenizer\n",
        "        self.reddit_sentiment_model = reddit_sentiment_model\n",
        "        self.twitter_sector_tokenizer = twitter_sector_tokenizer\n",
        "        self.twitter_sector_model = twitter_sector_model\n",
        "\n",
        "    def forward(self, prev_tweet, curr_tweet, prev_reddit):\n",
        "        '''\n",
        "        Forward pass for the DUNES model.\n",
        "        Args:\n",
        "            prev_tweet: previous tweet\n",
        "            curr_tweet: current tweet\n",
        "            prev_reddit: previous Reddit post\n",
        "            curr_reddit: current Reddit post\n",
        "        Returns:\n",
        "            sentiment: sentiment of the current tweet\n",
        "            sector: sector of the current tweet\n",
        "        '''\n",
        "        # Get the embeddings\n",
        "        prev_tweet_embedding = self.twitter_embedding_model.encode([prev_tweet])\n",
        "        curr_tweet_embedding = self.twitter_embedding_model.encode([curr_tweet])\n",
        "\n",
        "        # Get the sentiment\n",
        "        prev_tweet_tokens = self.twitter_sentiment_tokenizer(prev_tweet, return_tensors='pt')\n",
        "        prev_tweet_sentiment = self.twitter_sentiment_model(**prev_tweet_tokens)[0][0].detach().numpy()\n",
        "        curr_tweet_tokens = self.twitter_sentiment_tokenizer(curr_tweet, return_tensors='pt')\n",
        "        curr_tweet_sentiment = self.twitter_sentiment_model(**curr_tweet_tokens)[0][0].detach().numpy()\n",
        "\n",
        "        prev_reddit_tokens = self.reddit_sentiment_tokenizer(prev_reddit, return_tensors='pt')\n",
        "        prev_reddit_sentiment = self.reddit_sentiment_model(**prev_reddit_tokens)[0][0].detach().numpy()\n",
        "\n",
        "        # Get the sector\n",
        "        prev_sector_tokens = self.twitter_sector_tokenizer(prev_tweet, return_tensors='pt')\n",
        "        prev_tweet_sector = self.twitter_sector_model(**prev_sector_tokens)[0][0].detach().numpy()\n",
        "        curr_sector_tokens = self.twitter_sector_tokenizer(curr_tweet, return_tensors='pt')\n",
        "        curr_tweet_sector = self.twitter_sector_model(**curr_sector_tokens)[0][0].detach().numpy()\n",
        "\n",
        "\n",
        "        return prev_tweet_embedding, curr_tweet_embedding, prev_tweet_sentiment, curr_tweet_sentiment, prev_reddit_sentiment, prev_tweet_sector, curr_tweet_sector\n",
        "\n",
        "\n",
        "def create_preprocessing_model(\n",
        "        twitter_embedding: str,\n",
        "        twitter_sentiment: str,\n",
        "        reddit_sentiment: str,\n",
        "        twitter_sector: str\n",
        "):\n",
        "    '''\n",
        "    Initialize a DUNES model from a set of embeddings and sentiment models.\n",
        "    Feeds the output of these models to a transformer for classification.\n",
        "    Args:\n",
        "        twitter_embedding: path to the Twitter embedding huggingface model\n",
        "        twitter_sentiment: path to the Twitter sentiment huggingface model\n",
        "        reddit_sentiment: path to the Reddit sentiment huggingface model\n",
        "        twitter_sector: path to the Twitter sector huggingface model\n",
        "    '''\n",
        "\n",
        "    # Load the models\n",
        "    twitter_embedding_model = SentenceTransformer(twitter_embedding)\n",
        "    twitter_sentiment_tokenizer = AutoTokenizer.from_pretrained(twitter_sentiment)\n",
        "    twitter_sentiment_model = AutoModelForSequenceClassification.from_pretrained(twitter_sentiment)\n",
        "    reddit_sentiment_tokenizer = AutoTokenizer.from_pretrained(reddit_sentiment)\n",
        "    reddit_sentiment_model = AutoModelForSequenceClassification.from_pretrained(reddit_sentiment)\n",
        "    twitter_sector_tokenizer = AutoTokenizer.from_pretrained(twitter_sector)\n",
        "    twitter_sector_model = AutoModelForSequenceClassification.from_pretrained(twitter_sector)\n",
        "\n",
        "    # Freeze the models\n",
        "    twitter_sentiment_model.eval()\n",
        "    twitter_sentiment_model.requires_grad_(False)\n",
        "    reddit_sentiment_model.eval()\n",
        "    reddit_sentiment_model.requires_grad_(False)\n",
        "    twitter_sector_model.eval()\n",
        "    twitter_sector_model.requires_grad_(False)\n",
        "\n",
        "    # Create the DUNES model\n",
        "    model = PreDUNES(\n",
        "        twitter_embedding_model,\n",
        "        twitter_sentiment_tokenizer,\n",
        "        twitter_sentiment_model,\n",
        "        reddit_sentiment_tokenizer,\n",
        "        reddit_sentiment_model,\n",
        "        twitter_sector_tokenizer,\n",
        "        twitter_sector_model\n",
        "        )\n",
        "\n",
        "    return model"
      ]
    },
    {
      "cell_type": "code",
      "source": [
        "preprocessing_model = create_preprocessing_model(\n",
        "    \"mixedbread-ai/mxbai-embed-large-v1\",\n",
        "    \"cardiffnlp/twitter-roberta-base-sentiment-latest\",\n",
        "    \"SamLowe/roberta-base-go_emotions\",\n",
        "    \"cardiffnlp/tweet-topic-latest-multi\"\n",
        ")"
      ],
      "metadata": {
        "colab": {
          "base_uri": "https://localhost:8080/"
        },
        "id": "C78OGHLymXEh",
        "outputId": "b2ee7cbf-1973-450a-a94d-7461e665bc63"
      },
      "execution_count": 40,
      "outputs": [
        {
          "output_type": "stream",
          "name": "stderr",
          "text": [
            "Some weights of the model checkpoint at cardiffnlp/twitter-roberta-base-sentiment-latest were not used when initializing RobertaForSequenceClassification: ['roberta.pooler.dense.bias', 'roberta.pooler.dense.weight']\n",
            "- This IS expected if you are initializing RobertaForSequenceClassification from the checkpoint of a model trained on another task or with another architecture (e.g. initializing a BertForSequenceClassification model from a BertForPreTraining model).\n",
            "- This IS NOT expected if you are initializing RobertaForSequenceClassification from the checkpoint of a model that you expect to be exactly identical (initializing a BertForSequenceClassification model from a BertForSequenceClassification model).\n"
          ]
        }
      ]
    },
    {
      "cell_type": "code",
      "source": [
        "prev_tweet_embedding, curr_tweet_embedding, prev_tweet_sentiment, curr_tweet_sentiment, prev_reddit_sentiment, prev_tweet_sector, curr_tweet_sector = preprocessing_model(\n",
        "    \"@WholeMarsBlog Headline is misleading. Starlink can obviously offer far more robust positioning than GPS, as it will have ~1000X more satellites over time. Not all will have line of sight to users, but still &gt;10X GPS &amp; far stronger signal. Just not today’s problem.\",\n",
        "    \"@spideycyp_155 @BillyM2k If Russia faced calamitous defeat in conventional warfare for something as strategically critical as Crimea, the probability of using nuclear weapons is high\",\n",
        "    \"We know who controls the media. The same corporations who have wreaked havoc on the globe for decades, if not centuries, the big banks who financed them, and the governments who turned a blind eye to the destruction. The same entities who have brought us to the precipice of destruction - quite possibly condemning us, and our progeny to an unlivable climate They have tried to stop you at every turn, and yet you persist for the good of humanity. We love you, Elon! Keep up the good work! As you have said, we must never let the light of human consciousness fade - never!\"\n",
        "    )"
      ],
      "metadata": {
        "id": "axcbDtf-n6h_"
      },
      "execution_count": 41,
      "outputs": []
    },
    {
      "cell_type": "code",
      "source": [
        "from scipy.special import expit, softmax\n",
        "predictions = softmax(prev_reddit_sentiment)"
      ],
      "metadata": {
        "id": "AB2dLEAbrJeX"
      },
      "execution_count": 46,
      "outputs": []
    },
    {
      "cell_type": "code",
      "source": [
        "predictions"
      ],
      "metadata": {
        "colab": {
          "base_uri": "https://localhost:8080/"
        },
        "id": "m7NeDF7lQcFQ",
        "outputId": "7b6afa0e-a5f7-4ddd-a083-501016490c0c"
      },
      "execution_count": 47,
      "outputs": [
        {
          "output_type": "execute_result",
          "data": {
            "text/plain": [
              "array([5.54420054e-01, 1.40509990e-04, 5.52322809e-03, 6.28632726e-03,\n",
              "       6.19471595e-02, 2.29551401e-02, 5.65702619e-04, 3.86166183e-04,\n",
              "       3.60986171e-03, 3.97532713e-03, 9.10502672e-03, 1.04401284e-03,\n",
              "       2.00380688e-04, 1.08334795e-03, 7.26138183e-04, 3.64340702e-03,\n",
              "       4.57903225e-04, 1.33530260e-03, 2.88833410e-01, 2.72750418e-04,\n",
              "       1.25058675e-02, 2.21462711e-03, 2.55419593e-03, 6.04779460e-04,\n",
              "       4.57547925e-04, 2.13474990e-03, 2.79539556e-04, 1.27374502e-02],\n",
              "      dtype=float32)"
            ]
          },
          "metadata": {},
          "execution_count": 47
        }
      ]
    },
    {
      "cell_type": "code",
      "source": [
        "class_mapping = AutoModel.from_pretrained(\"SamLowe/roberta-base-go_emotions\").config.id2label\n",
        "\n",
        "ranking = np.argsort(predictions)\n",
        "ranking = ranking[::-1]\n",
        "for i in range(predictions.shape[0]):\n",
        "    l = class_mapping[ranking[i]]\n",
        "    s = predictions[ranking[i]]\n",
        "    print(f\"{i+1}) {l} {np.round(float(s), 4)}\")"
      ],
      "metadata": {
        "colab": {
          "base_uri": "https://localhost:8080/"
        },
        "id": "080hMwxmOoLv",
        "outputId": "68b90f75-b051-4b3e-e645-4338271f5990"
      },
      "execution_count": 48,
      "outputs": [
        {
          "output_type": "stream",
          "name": "stderr",
          "text": [
            "Some weights of RobertaModel were not initialized from the model checkpoint at SamLowe/roberta-base-go_emotions and are newly initialized: ['roberta.pooler.dense.bias', 'roberta.pooler.dense.weight']\n",
            "You should probably TRAIN this model on a down-stream task to be able to use it for predictions and inference.\n"
          ]
        },
        {
          "output_type": "stream",
          "name": "stdout",
          "text": [
            "1) admiration 0.5544\n",
            "2) love 0.2888\n",
            "3) approval 0.0619\n",
            "4) caring 0.023\n",
            "5) neutral 0.0127\n",
            "6) optimism 0.0125\n",
            "7) disapproval 0.0091\n",
            "8) annoyance 0.0063\n",
            "9) anger 0.0055\n",
            "10) disappointment 0.004\n",
            "11) gratitude 0.0036\n",
            "12) desire 0.0036\n",
            "13) realization 0.0026\n",
            "14) pride 0.0022\n",
            "15) sadness 0.0021\n",
            "16) joy 0.0013\n",
            "17) excitement 0.0011\n",
            "18) disgust 0.001\n",
            "19) fear 0.0007\n",
            "20) relief 0.0006\n",
            "21) confusion 0.0006\n",
            "22) grief 0.0005\n",
            "23) remorse 0.0005\n",
            "24) curiosity 0.0004\n",
            "25) surprise 0.0003\n",
            "26) nervousness 0.0003\n",
            "27) embarrassment 0.0002\n",
            "28) amusement 0.0001\n"
          ]
        }
      ]
    },
    {
      "cell_type": "code",
      "source": [
        "import numpy as np\n",
        "from typing import Dict\n",
        "from scipy.special import expit, softmax\n",
        "\n",
        "import torch\n",
        "import torch.nn as nn\n",
        "from transformers import AutoModel, AutoTokenizer, AutoModelForSequenceClassification\n",
        "from sentence_transformers import SentenceTransformer\n",
        "\n",
        "class PreDUNES(nn.Module):\n",
        "    def __init__(\n",
        "            self,\n",
        "            twitter_embedding_model: nn.Module,\n",
        "            twitter_sentiment_tokenizer,\n",
        "            twitter_sentiment_model: nn.Module,\n",
        "            reddit_sentiment_tokenizer,\n",
        "            reddit_sentiment_model: nn.Module,\n",
        "            twitter_sector_tokenizer,\n",
        "            twitter_sector_model: nn.Module\n",
        "        ):\n",
        "        '''\n",
        "        Initialize a DUNES model from a set of embeddings and sentiment models.\n",
        "        Args:\n",
        "            twitter_embedding_model: huggingface model for Twitter embeddings\n",
        "            twitter_sentiment_model: huggingface model for Twitter sentiment\n",
        "            reddit_sentiment_model: huggingface model for Reddit sentiment\n",
        "            twitter_sector_model: huggingface model for Twitter sector\n",
        "        '''\n",
        "        super(PreDUNES, self).__init__()\n",
        "        self.twitter_embedding_model = twitter_embedding_model\n",
        "        self.twitter_sentiment_tokenizer = twitter_sentiment_tokenizer\n",
        "        self.twitter_sentiment_model = twitter_sentiment_model\n",
        "        self.reddit_sentiment_tokenizer = reddit_sentiment_tokenizer\n",
        "        self.reddit_sentiment_model = reddit_sentiment_model\n",
        "        self.twitter_sector_tokenizer = twitter_sector_tokenizer\n",
        "        self.twitter_sector_model = twitter_sector_model\n",
        "\n",
        "    def forward(self, prev_tweet, curr_tweet, prev_reddit):\n",
        "        '''\n",
        "        Forward pass for the DUNES model.\n",
        "        Args:\n",
        "            prev_tweet: previous tweet\n",
        "            curr_tweet: current tweet\n",
        "            prev_reddit: previous Reddit post\n",
        "            curr_reddit: current Reddit post\n",
        "        Returns:\n",
        "            sentiment: sentiment of the current tweet\n",
        "            sector: sector of the current tweet\n",
        "        '''\n",
        "        # Get the embeddings\n",
        "        prev_tweet_embedding = self.twitter_embedding_model.encode([prev_tweet])\n",
        "        curr_tweet_embedding = self.twitter_embedding_model.encode([curr_tweet])\n",
        "\n",
        "        # Get the sentiment\n",
        "        prev_tweet_tokens = self.twitter_sentiment_tokenizer(prev_tweet, return_tensors='pt')\n",
        "        prev_tweet_sentiment = self.twitter_sentiment_model(**prev_tweet_tokens)[0][0].detach().numpy()\n",
        "        curr_tweet_tokens = self.twitter_sentiment_tokenizer(curr_tweet, return_tensors='pt')\n",
        "        curr_tweet_sentiment = self.twitter_sentiment_model(**curr_tweet_tokens)[0][0].detach().numpy()\n",
        "\n",
        "        prev_reddit_tokens = self.reddit_sentiment_tokenizer(prev_reddit, return_tensors='pt')\n",
        "        prev_reddit_sentiment = self.reddit_sentiment_model(**prev_reddit_tokens)[0][0].detach().numpy()\n",
        "\n",
        "        # Get the sector\n",
        "        prev_sector_tokens = self.twitter_sector_tokenizer(prev_tweet, return_tensors='pt')\n",
        "        prev_tweet_sector = self.twitter_sector_model(**prev_sector_tokens)[0][0].detach().numpy()\n",
        "        curr_sector_tokens = self.twitter_sector_tokenizer(curr_tweet, return_tensors='pt')\n",
        "        curr_tweet_sector = self.twitter_sector_model(**curr_sector_tokens)[0][0].detach().numpy()\n",
        "\n",
        "\n",
        "        return prev_tweet_embedding, curr_tweet_embedding, prev_tweet_sentiment, curr_tweet_sentiment, prev_reddit_sentiment, prev_tweet_sector, curr_tweet_sector\n",
        "\n",
        "\n",
        "def create_preprocessing_model(\n",
        "        twitter_embedding: str,\n",
        "        twitter_sentiment: str,\n",
        "        reddit_sentiment: str,\n",
        "        twitter_sector: str\n",
        "):\n",
        "    '''\n",
        "    Initialize a DUNES model from a set of embeddings and sentiment models.\n",
        "    Feeds the output of these models to a transformer for classification.\n",
        "    Args:\n",
        "        twitter_embedding: path to the Twitter embedding huggingface model\n",
        "        twitter_sentiment: path to the Twitter sentiment huggingface model\n",
        "        reddit_sentiment: path to the Reddit sentiment huggingface model\n",
        "        twitter_sector: path to the Twitter sector huggingface model\n",
        "    '''\n",
        "\n",
        "    # Load the models\n",
        "    twitter_embedding_model = SentenceTransformer(twitter_embedding)\n",
        "    twitter_sentiment_tokenizer = AutoTokenizer.from_pretrained(twitter_sentiment)\n",
        "    twitter_sentiment_model = AutoModelForSequenceClassification.from_pretrained(twitter_sentiment)\n",
        "    reddit_sentiment_tokenizer = AutoTokenizer.from_pretrained(reddit_sentiment)\n",
        "    reddit_sentiment_model = AutoModelForSequenceClassification.from_pretrained(reddit_sentiment)\n",
        "    twitter_sector_tokenizer = AutoTokenizer.from_pretrained(twitter_sector)\n",
        "    twitter_sector_model = AutoModelForSequenceClassification.from_pretrained(twitter_sector)\n",
        "\n",
        "    # Freeze the models\n",
        "    twitter_sentiment_model.eval()\n",
        "    twitter_sentiment_model.requires_grad_(False)\n",
        "    reddit_sentiment_model.eval()\n",
        "    reddit_sentiment_model.requires_grad_(False)\n",
        "    twitter_sector_model.eval()\n",
        "    twitter_sector_model.requires_grad_(False)\n",
        "\n",
        "    # Create the DUNES model\n",
        "    model = PreDUNES(\n",
        "        twitter_embedding_model,\n",
        "        twitter_sentiment_tokenizer,\n",
        "        twitter_sentiment_model,\n",
        "        reddit_sentiment_tokenizer,\n",
        "        reddit_sentiment_model,\n",
        "        twitter_sector_tokenizer,\n",
        "        twitter_sector_model\n",
        "        )\n",
        "\n",
        "    return model\n",
        "\n",
        "def printClassMappings(model, predictions):\n",
        "    class_mapping = AutoModel.from_pretrained(model).config.id2label\n",
        "    predictions = softmax(predictions)\n",
        "    ranking = np.argsort(predictions)\n",
        "    ranking = ranking[::-1]\n",
        "    for i in range(predictions.shape[0]):\n",
        "        l = class_mapping[ranking[i]]\n",
        "        s = predictions[ranking[i]]\n",
        "        print(f\"{i+1}) {l} {np.round(float(s), 4)}\")\n",
        "\n",
        "def test():\n",
        "    preprocessing_model = create_preprocessing_model(\n",
        "        \"mixedbread-ai/mxbai-embed-large-v1\",\n",
        "        \"cardiffnlp/twitter-roberta-base-sentiment-latest\",\n",
        "        \"SamLowe/roberta-base-go_emotions\",\n",
        "        \"cardiffnlp/tweet-topic-latest-multi\"\n",
        "    )\n",
        "\n",
        "    prev_tweet_embedding, curr_tweet_embedding, prev_tweet_sentiment, curr_tweet_sentiment, prev_reddit_sentiment, prev_tweet_sector, curr_tweet_sector = preprocessing_model(\n",
        "        \"@WholeMarsBlog Headline is misleading. Starlink can obviously offer far more robust positioning than GPS, as it will have ~1000X more satellites over time. Not all will have line of sight to users, but still &gt;10X GPS &amp; far stronger signal. Just not today’s problem.\",\n",
        "        \"@spideycyp_155 @BillyM2k If Russia faced calamitous defeat in conventional warfare for something as strategically critical as Crimea, the probability of using nuclear weapons is high\",\n",
        "        \"We know who controls the media. The same corporations who have wreaked havoc on the globe for decades, if not centuries, the big banks who financed them, and the governments who turned a blind eye to the destruction. The same entities who have brought us to the precipice of destruction - quite possibly condemning us, and our progeny to an unlivable climate They have tried to stop you at every turn, and yet you persist for the good of humanity. We love you, Elon! Keep up the good work! As you have said, we must never let the light of human consciousness fade - never!\"\n",
        "    )\n",
        "\n",
        "    print(\"prev_tweet_embedding:\", prev_tweet_embedding)\n",
        "    print(\"curr_tweet_embedding:\", curr_tweet_embedding)\n",
        "    print(\"prev_tweet_sentiment:\", softmax(prev_tweet_sentiment))\n",
        "    print(\"curr_tweet_sentiment:\", softmax(curr_tweet_sentiment))\n",
        "\n",
        "    print(\"prev_reddit_sentiment:\")\n",
        "    printClassMappings(\"SamLowe/roberta-base-go_emotions\", prev_reddit_sentiment)\n",
        "    print(\"prev_tweet_sector:\")\n",
        "    printClassMappings(\"cardiffnlp/tweet-topic-latest-multi\", prev_tweet_sector)\n",
        "    print(\"curr_tweet_sector:\")\n",
        "    printClassMappings(\"cardiffnlp/tweet-topic-latest-multi\", curr_tweet_sector)\n"
      ],
      "metadata": {
        "id": "xVTxTCOfO7Yi"
      },
      "execution_count": 10,
      "outputs": []
    },
    {
      "cell_type": "code",
      "source": [
        "test()"
      ],
      "metadata": {
        "colab": {
          "base_uri": "https://localhost:8080/"
        },
        "id": "gEQrY1lLW0bb",
        "outputId": "8eb7baa3-ecd1-41c2-fba1-802c6cfd551b"
      },
      "execution_count": 11,
      "outputs": [
        {
          "output_type": "stream",
          "name": "stderr",
          "text": [
            "Some weights of the model checkpoint at cardiffnlp/twitter-roberta-base-sentiment-latest were not used when initializing RobertaForSequenceClassification: ['roberta.pooler.dense.bias', 'roberta.pooler.dense.weight']\n",
            "- This IS expected if you are initializing RobertaForSequenceClassification from the checkpoint of a model trained on another task or with another architecture (e.g. initializing a BertForSequenceClassification model from a BertForPreTraining model).\n",
            "- This IS NOT expected if you are initializing RobertaForSequenceClassification from the checkpoint of a model that you expect to be exactly identical (initializing a BertForSequenceClassification model from a BertForSequenceClassification model).\n"
          ]
        },
        {
          "output_type": "stream",
          "name": "stdout",
          "text": [
            "prev_tweet_embedding: [[ 0.34489515  0.138461   -0.32645538 ... -0.71767527  0.28787842\n",
            "  -0.14000678]]\n",
            "curr_tweet_embedding: [[ 0.66635436 -0.4989476   0.04492851 ... -0.91719586  0.18333039\n",
            "  -0.49501836]]\n",
            "prev_tweet_sentiment: [0.14040026 0.5746991  0.2849006 ]\n",
            "curr_tweet_sentiment: [0.66102684 0.3228219  0.01615138]\n",
            "prev_reddit_sentiment:\n"
          ]
        },
        {
          "output_type": "stream",
          "name": "stderr",
          "text": [
            "Some weights of RobertaModel were not initialized from the model checkpoint at SamLowe/roberta-base-go_emotions and are newly initialized: ['roberta.pooler.dense.bias', 'roberta.pooler.dense.weight']\n",
            "You should probably TRAIN this model on a down-stream task to be able to use it for predictions and inference.\n"
          ]
        },
        {
          "output_type": "stream",
          "name": "stdout",
          "text": [
            "1) admiration 0.5544\n",
            "2) love 0.2888\n",
            "3) approval 0.0619\n",
            "4) caring 0.023\n",
            "5) neutral 0.0127\n",
            "6) optimism 0.0125\n",
            "7) disapproval 0.0091\n",
            "8) annoyance 0.0063\n",
            "9) anger 0.0055\n",
            "10) disappointment 0.004\n",
            "11) gratitude 0.0036\n",
            "12) desire 0.0036\n",
            "13) realization 0.0026\n",
            "14) pride 0.0022\n",
            "15) sadness 0.0021\n",
            "16) joy 0.0013\n",
            "17) excitement 0.0011\n",
            "18) disgust 0.001\n",
            "19) fear 0.0007\n",
            "20) relief 0.0006\n",
            "21) confusion 0.0006\n",
            "22) grief 0.0005\n",
            "23) remorse 0.0005\n",
            "24) curiosity 0.0004\n",
            "25) surprise 0.0003\n",
            "26) nervousness 0.0003\n",
            "27) embarrassment 0.0002\n",
            "28) amusement 0.0001\n",
            "prev_tweet_sector:\n"
          ]
        },
        {
          "output_type": "stream",
          "name": "stderr",
          "text": [
            "Some weights of RobertaModel were not initialized from the model checkpoint at cardiffnlp/tweet-topic-latest-multi and are newly initialized: ['roberta.pooler.dense.bias', 'roberta.pooler.dense.weight']\n",
            "You should probably TRAIN this model on a down-stream task to be able to use it for predictions and inference.\n"
          ]
        },
        {
          "output_type": "stream",
          "name": "stdout",
          "text": [
            "1) science_&_technology 0.9853\n",
            "2) news_&_social_concern 0.0066\n",
            "3) business_&_entrepreneurs 0.0027\n",
            "4) other_hobbies 0.0008\n",
            "5) diaries_&_daily_life 0.0007\n",
            "6) learning_&_educational 0.0006\n",
            "7) film_tv_&_video 0.0005\n",
            "8) fitness_&_health 0.0004\n",
            "9) celebrity_&_pop_culture 0.0004\n",
            "10) gaming 0.0003\n",
            "11) travel_&_adventure 0.0003\n",
            "12) sports 0.0002\n",
            "13) relationships 0.0002\n",
            "14) youth_&_student_life 0.0002\n",
            "15) music 0.0002\n",
            "16) food_&_dining 0.0002\n",
            "17) arts_&_culture 0.0002\n",
            "18) family 0.0002\n",
            "19) fashion_&_style 0.0001\n",
            "curr_tweet_sector:\n"
          ]
        },
        {
          "output_type": "stream",
          "name": "stderr",
          "text": [
            "Some weights of RobertaModel were not initialized from the model checkpoint at cardiffnlp/tweet-topic-latest-multi and are newly initialized: ['roberta.pooler.dense.bias', 'roberta.pooler.dense.weight']\n",
            "You should probably TRAIN this model on a down-stream task to be able to use it for predictions and inference.\n"
          ]
        },
        {
          "output_type": "stream",
          "name": "stdout",
          "text": [
            "1) news_&_social_concern 0.9976\n",
            "2) science_&_technology 0.001\n",
            "3) celebrity_&_pop_culture 0.0003\n",
            "4) film_tv_&_video 0.0003\n",
            "5) other_hobbies 0.0002\n",
            "6) gaming 0.0001\n",
            "7) diaries_&_daily_life 0.0001\n",
            "8) business_&_entrepreneurs 0.0001\n",
            "9) learning_&_educational 0.0001\n",
            "10) sports 0.0001\n",
            "11) arts_&_culture 0.0\n",
            "12) music 0.0\n",
            "13) youth_&_student_life 0.0\n",
            "14) fitness_&_health 0.0\n",
            "15) travel_&_adventure 0.0\n",
            "16) family 0.0\n",
            "17) relationships 0.0\n",
            "18) food_&_dining 0.0\n",
            "19) fashion_&_style 0.0\n"
          ]
        }
      ]
    },
    {
      "cell_type": "code",
      "source": [],
      "metadata": {
        "id": "ztk9qhXRW1N3"
      },
      "execution_count": null,
      "outputs": []
    }
  ]
}