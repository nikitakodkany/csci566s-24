{
  "cells": [
    {
      "cell_type": "code",
      "execution_count": null,
      "metadata": {
        "colab": {
          "base_uri": "https://localhost:8080/"
        },
        "id": "kUN3F-XE1dqr",
        "outputId": "38d5f67f-aa91-48bc-bbc6-a0b7e1cc0450"
      },
      "outputs": [],
      "source": [
        "!python -m pip install -U sentence-transformers"
      ]
    },
    {
      "cell_type": "code",
      "execution_count": null,
      "metadata": {
        "id": "aKCF9Q56ue-G"
      },
      "outputs": [],
      "source": [
        "import numpy as np\n",
        "from typing import Dict"
      ]
    },
    {
      "cell_type": "code",
      "execution_count": null,
      "metadata": {
        "id": "mmpWO07qaY1q"
      },
      "outputs": [],
      "source": [
        "import torch\n",
        "import torch.nn as nn\n",
        "from transformers import AutoModel, AutoTokenizer, AutoModelForSequenceClassification\n",
        "from sentence_transformers import SentenceTransformer\n",
        "\n",
        "\n",
        "class PreDUNES(nn.Module):\n",
        "    def __init__(\n",
        "            self,\n",
        "            twitter_embedding_model: nn.Module,\n",
        "            twitter_sentiment_tokenizer,\n",
        "            twitter_sentiment_model: nn.Module,\n",
        "            reddit_sentiment_tokenizer,\n",
        "            reddit_sentiment_model: nn.Module,\n",
        "            twitter_sector_tokenizer,\n",
        "            twitter_sector_model: nn.Module\n",
        "        ):\n",
        "        '''\n",
        "        Initialize a DUNES model from a set of embeddings and sentiment models.\n",
        "        Args:\n",
        "            twitter_embedding_model: huggingface model for Twitter embeddings\n",
        "            twitter_sentiment_model: huggingface model for Twitter sentiment\n",
        "            reddit_sentiment_model: huggingface model for Reddit sentiment\n",
        "            twitter_sector_model: huggingface model for Twitter sector\n",
        "        '''\n",
        "        super(PreDUNES, self).__init__()\n",
        "        self.twitter_embedding_model = twitter_embedding_model\n",
        "        self.twitter_sentiment_tokenizer = twitter_sentiment_tokenizer\n",
        "        self.twitter_sentiment_model = twitter_sentiment_model\n",
        "        self.reddit_sentiment_tokenizer = reddit_sentiment_tokenizer\n",
        "        self.reddit_sentiment_model = reddit_sentiment_model\n",
        "        self.twitter_sector_tokenizer = twitter_sector_tokenizer\n",
        "        self.twitter_sector_model = twitter_sector_model\n",
        "\n",
        "    def forward(self, prev_tweet, curr_tweet, prev_reddit):\n",
        "        '''\n",
        "        Forward pass for the DUNES model.\n",
        "        Args:\n",
        "            prev_tweet: previous tweet\n",
        "            curr_tweet: current tweet\n",
        "            prev_reddit: previous Reddit post\n",
        "            curr_reddit: current Reddit post\n",
        "        Returns:\n",
        "            sentiment: sentiment of the current tweet\n",
        "            sector: sector of the current tweet\n",
        "        '''\n",
        "        # Get the embeddings\n",
        "        prev_tweet_embedding = self.twitter_embedding_model.encode([prev_tweet])\n",
        "        curr_tweet_embedding = self.twitter_embedding_model.encode([curr_tweet])\n",
        "\n",
        "        # Get the sentiment\n",
        "        prev_tweet_tokens = self.twitter_sentiment_tokenizer(prev_tweet, return_tensors='pt')\n",
        "        prev_tweet_sentiment = self.twitter_sentiment_model(**prev_tweet_tokens)[0][0].detach().numpy()\n",
        "        curr_tweet_tokens = self.twitter_sentiment_tokenizer(curr_tweet, return_tensors='pt')\n",
        "        curr_tweet_sentiment = self.twitter_sentiment_model(**curr_tweet_tokens)[0][0].detach().numpy()\n",
        "\n",
        "        prev_reddit_tokens = self.reddit_sentiment_tokenizer(prev_reddit, return_tensors='pt')\n",
        "        prev_reddit_sentiment = self.reddit_sentiment_model(**prev_reddit_tokens)[0][0].detach().numpy()\n",
        "\n",
        "        # Get the sector\n",
        "        prev_sector_tokens = self.twitter_sector_tokenizer(prev_tweet, return_tensors='pt')\n",
        "        prev_tweet_sector = self.twitter_sector_model(**prev_sector_tokens)[0][0].detach().numpy()\n",
        "        curr_sector_tokens = self.twitter_sector_tokenizer(curr_tweet, return_tensors='pt')\n",
        "        curr_tweet_sector = self.twitter_sector_model(**curr_sector_tokens)[0][0].detach().numpy()\n",
        "\n",
        "\n",
        "        return prev_tweet_embedding, curr_tweet_embedding, prev_tweet_sentiment, curr_tweet_sentiment, prev_reddit_sentiment, prev_tweet_sector, curr_tweet_sector\n",
        "\n",
        "\n",
        "def create_preprocessing_model(\n",
        "        twitter_embedding: str,\n",
        "        twitter_sentiment: str,\n",
        "        reddit_sentiment: str,\n",
        "        twitter_sector: str\n",
        "):\n",
        "    '''\n",
        "    Initialize a DUNES model from a set of embeddings and sentiment models.\n",
        "    Feeds the output of these models to a transformer for classification.\n",
        "    Args:\n",
        "        twitter_embedding: path to the Twitter embedding huggingface model\n",
        "        twitter_sentiment: path to the Twitter sentiment huggingface model\n",
        "        reddit_sentiment: path to the Reddit sentiment huggingface model\n",
        "        twitter_sector: path to the Twitter sector huggingface model\n",
        "    '''\n",
        "\n",
        "    # Load the models\n",
        "    twitter_embedding_model = SentenceTransformer(twitter_embedding)\n",
        "    twitter_sentiment_tokenizer = AutoTokenizer.from_pretrained(twitter_sentiment)\n",
        "    twitter_sentiment_model = AutoModelForSequenceClassification.from_pretrained(twitter_sentiment)\n",
        "    reddit_sentiment_tokenizer = AutoTokenizer.from_pretrained(reddit_sentiment)\n",
        "    reddit_sentiment_model = AutoModelForSequenceClassification.from_pretrained(reddit_sentiment)\n",
        "    twitter_sector_tokenizer = AutoTokenizer.from_pretrained(twitter_sector)\n",
        "    twitter_sector_model = AutoModelForSequenceClassification.from_pretrained(twitter_sector)\n",
        "\n",
        "    # Freeze the models\n",
        "    twitter_sentiment_model.eval()\n",
        "    twitter_sentiment_model.requires_grad_(False)\n",
        "    reddit_sentiment_model.eval()\n",
        "    reddit_sentiment_model.requires_grad_(False)\n",
        "    twitter_sector_model.eval()\n",
        "    twitter_sector_model.requires_grad_(False)\n",
        "\n",
        "    # Create the DUNES model\n",
        "    model = PreDUNES(\n",
        "        twitter_embedding_model,\n",
        "        twitter_sentiment_tokenizer,\n",
        "        twitter_sentiment_model,\n",
        "        reddit_sentiment_tokenizer,\n",
        "        reddit_sentiment_model,\n",
        "        twitter_sector_tokenizer,\n",
        "        twitter_sector_model\n",
        "        )\n",
        "\n",
        "    return model"
      ]
    },
    {
      "cell_type": "code",
      "execution_count": null,
      "metadata": {
        "colab": {
          "base_uri": "https://localhost:8080/"
        },
        "id": "C78OGHLymXEh",
        "outputId": "b2ee7cbf-1973-450a-a94d-7461e665bc63"
      },
      "outputs": [],
      "source": [
        "preprocessing_model = create_preprocessing_model(\n",
        "    \"mixedbread-ai/mxbai-embed-large-v1\",\n",
        "    \"cardiffnlp/twitter-roberta-base-sentiment-latest\",\n",
        "    \"SamLowe/roberta-base-go_emotions\",\n",
        "    \"cardiffnlp/tweet-topic-latest-multi\"\n",
        ")"
      ]
    },
    {
      "cell_type": "code",
      "execution_count": null,
      "metadata": {
        "id": "axcbDtf-n6h_"
      },
      "outputs": [],
      "source": [
        "prev_tweet_embedding, curr_tweet_embedding, prev_tweet_sentiment, curr_tweet_sentiment, prev_reddit_sentiment, prev_tweet_sector, curr_tweet_sector = preprocessing_model(\n",
        "    \"@WholeMarsBlog Headline is misleading. Starlink can obviously offer far more robust positioning than GPS, as it will have ~1000X more satellites over time. Not all will have line of sight to users, but still &gt;10X GPS &amp; far stronger signal. Just not today’s problem.\",\n",
        "    \"@spideycyp_155 @BillyM2k If Russia faced calamitous defeat in conventional warfare for something as strategically critical as Crimea, the probability of using nuclear weapons is high\",\n",
        "    \"We know who controls the media. The same corporations who have wreaked havoc on the globe for decades, if not centuries, the big banks who financed them, and the governments who turned a blind eye to the destruction. The same entities who have brought us to the precipice of destruction - quite possibly condemning us, and our progeny to an unlivable climate They have tried to stop you at every turn, and yet you persist for the good of humanity. We love you, Elon! Keep up the good work! As you have said, we must never let the light of human consciousness fade - never!\"\n",
        "    )"
      ]
    },
    {
      "cell_type": "code",
      "execution_count": null,
      "metadata": {
        "id": "AB2dLEAbrJeX"
      },
      "outputs": [],
      "source": [
        "from scipy.special import expit, softmax\n",
        "predictions = softmax(prev_reddit_sentiment)"
      ]
    },
    {
      "cell_type": "code",
      "execution_count": null,
      "metadata": {
        "colab": {
          "base_uri": "https://localhost:8080/"
        },
        "id": "m7NeDF7lQcFQ",
        "outputId": "7b6afa0e-a5f7-4ddd-a083-501016490c0c"
      },
      "outputs": [],
      "source": [
        "predictions"
      ]
    },
    {
      "cell_type": "code",
      "execution_count": null,
      "metadata": {
        "colab": {
          "base_uri": "https://localhost:8080/"
        },
        "id": "080hMwxmOoLv",
        "outputId": "68b90f75-b051-4b3e-e645-4338271f5990"
      },
      "outputs": [],
      "source": [
        "class_mapping = AutoModel.from_pretrained(\"SamLowe/roberta-base-go_emotions\").config.id2label\n",
        "\n",
        "ranking = np.argsort(predictions)\n",
        "ranking = ranking[::-1]\n",
        "for i in range(predictions.shape[0]):\n",
        "    l = class_mapping[ranking[i]]\n",
        "    s = predictions[ranking[i]]\n",
        "    print(f\"{i+1}) {l} {np.round(float(s), 4)}\")"
      ]
    },
    {
      "cell_type": "code",
      "execution_count": null,
      "metadata": {
        "id": "xVTxTCOfO7Yi"
      },
      "outputs": [],
      "source": [
        "import numpy as np\n",
        "from typing import Dict\n",
        "from scipy.special import expit, softmax\n",
        "\n",
        "import torch\n",
        "import torch.nn as nn\n",
        "from transformers import AutoModel, AutoTokenizer, AutoModelForSequenceClassification\n",
        "from sentence_transformers import SentenceTransformer\n",
        "\n",
        "class PreDUNES(nn.Module):\n",
        "    def __init__(\n",
        "            self,\n",
        "            twitter_embedding_model: nn.Module,\n",
        "            twitter_sentiment_tokenizer,\n",
        "            twitter_sentiment_model: nn.Module,\n",
        "            reddit_sentiment_tokenizer,\n",
        "            reddit_sentiment_model: nn.Module,\n",
        "            twitter_sector_tokenizer,\n",
        "            twitter_sector_model: nn.Module\n",
        "        ):\n",
        "        '''\n",
        "        Initialize a DUNES model from a set of embeddings and sentiment models.\n",
        "        Args:\n",
        "            twitter_embedding_model: huggingface model for Twitter embeddings\n",
        "            twitter_sentiment_model: huggingface model for Twitter sentiment\n",
        "            reddit_sentiment_model: huggingface model for Reddit sentiment\n",
        "            twitter_sector_model: huggingface model for Twitter sector\n",
        "        '''\n",
        "        super(PreDUNES, self).__init__()\n",
        "        self.twitter_embedding_model = twitter_embedding_model\n",
        "        self.twitter_sentiment_tokenizer = twitter_sentiment_tokenizer\n",
        "        self.twitter_sentiment_model = twitter_sentiment_model\n",
        "        self.reddit_sentiment_tokenizer = reddit_sentiment_tokenizer\n",
        "        self.reddit_sentiment_model = reddit_sentiment_model\n",
        "        self.twitter_sector_tokenizer = twitter_sector_tokenizer\n",
        "        self.twitter_sector_model = twitter_sector_model\n",
        "\n",
        "    def forward(self, prev_tweet, curr_tweet, prev_reddit):\n",
        "        '''\n",
        "        Forward pass for the DUNES model.\n",
        "        Args:\n",
        "            prev_tweet: previous tweet\n",
        "            curr_tweet: current tweet\n",
        "            prev_reddit: previous Reddit post\n",
        "            curr_reddit: current Reddit post\n",
        "        Returns:\n",
        "            sentiment: sentiment of the current tweet\n",
        "            sector: sector of the current tweet\n",
        "        '''\n",
        "        # Get the embeddings\n",
        "        prev_tweet_embedding = self.twitter_embedding_model.encode([prev_tweet])\n",
        "        curr_tweet_embedding = self.twitter_embedding_model.encode([curr_tweet])\n",
        "\n",
        "        # Get the sentiment\n",
        "        prev_tweet_tokens = self.twitter_sentiment_tokenizer(prev_tweet, return_tensors='pt')\n",
        "        prev_tweet_sentiment = self.twitter_sentiment_model(**prev_tweet_tokens)[0][0].detach().numpy()\n",
        "        curr_tweet_tokens = self.twitter_sentiment_tokenizer(curr_tweet, return_tensors='pt')\n",
        "        curr_tweet_sentiment = self.twitter_sentiment_model(**curr_tweet_tokens)[0][0].detach().numpy()\n",
        "\n",
        "        prev_reddit_tokens = self.reddit_sentiment_tokenizer(prev_reddit, return_tensors='pt')\n",
        "        prev_reddit_sentiment = self.reddit_sentiment_model(**prev_reddit_tokens)[0][0].detach().numpy()\n",
        "\n",
        "        # Get the sector\n",
        "        prev_sector_tokens = self.twitter_sector_tokenizer(prev_tweet, return_tensors='pt')\n",
        "        prev_tweet_sector = self.twitter_sector_model(**prev_sector_tokens)[0][0].detach().numpy()\n",
        "        curr_sector_tokens = self.twitter_sector_tokenizer(curr_tweet, return_tensors='pt')\n",
        "        curr_tweet_sector = self.twitter_sector_model(**curr_sector_tokens)[0][0].detach().numpy()\n",
        "\n",
        "\n",
        "        return prev_tweet_embedding, curr_tweet_embedding, prev_tweet_sentiment, curr_tweet_sentiment, prev_reddit_sentiment, prev_tweet_sector, curr_tweet_sector\n",
        "\n",
        "\n",
        "def create_preprocessing_model(\n",
        "        twitter_embedding: str,\n",
        "        twitter_sentiment: str,\n",
        "        reddit_sentiment: str,\n",
        "        twitter_sector: str\n",
        "):\n",
        "    '''\n",
        "    Initialize a DUNES model from a set of embeddings and sentiment models.\n",
        "    Feeds the output of these models to a transformer for classification.\n",
        "    Args:\n",
        "        twitter_embedding: path to the Twitter embedding huggingface model\n",
        "        twitter_sentiment: path to the Twitter sentiment huggingface model\n",
        "        reddit_sentiment: path to the Reddit sentiment huggingface model\n",
        "        twitter_sector: path to the Twitter sector huggingface model\n",
        "    '''\n",
        "\n",
        "    # Load the models\n",
        "    twitter_embedding_model = SentenceTransformer(twitter_embedding)\n",
        "    twitter_sentiment_tokenizer = AutoTokenizer.from_pretrained(twitter_sentiment)\n",
        "    twitter_sentiment_model = AutoModelForSequenceClassification.from_pretrained(twitter_sentiment)\n",
        "    reddit_sentiment_tokenizer = AutoTokenizer.from_pretrained(reddit_sentiment)\n",
        "    reddit_sentiment_model = AutoModelForSequenceClassification.from_pretrained(reddit_sentiment)\n",
        "    twitter_sector_tokenizer = AutoTokenizer.from_pretrained(twitter_sector)\n",
        "    twitter_sector_model = AutoModelForSequenceClassification.from_pretrained(twitter_sector)\n",
        "\n",
        "    # Freeze the models\n",
        "    twitter_sentiment_model.eval()\n",
        "    twitter_sentiment_model.requires_grad_(False)\n",
        "    reddit_sentiment_model.eval()\n",
        "    reddit_sentiment_model.requires_grad_(False)\n",
        "    twitter_sector_model.eval()\n",
        "    twitter_sector_model.requires_grad_(False)\n",
        "\n",
        "    # Create the DUNES model\n",
        "    model = PreDUNES(\n",
        "        twitter_embedding_model,\n",
        "        twitter_sentiment_tokenizer,\n",
        "        twitter_sentiment_model,\n",
        "        reddit_sentiment_tokenizer,\n",
        "        reddit_sentiment_model,\n",
        "        twitter_sector_tokenizer,\n",
        "        twitter_sector_model\n",
        "        )\n",
        "\n",
        "    return model\n",
        "\n",
        "def printClassMappings(model, predictions):\n",
        "    class_mapping = AutoModel.from_pretrained(model).config.id2label\n",
        "    predictions = softmax(predictions)\n",
        "    ranking = np.argsort(predictions)\n",
        "    ranking = ranking[::-1]\n",
        "    for i in range(predictions.shape[0]):\n",
        "        l = class_mapping[ranking[i]]\n",
        "        s = predictions[ranking[i]]\n",
        "        print(f\"{i+1}) {l} {np.round(float(s), 4)}\")\n",
        "\n",
        "def test():\n",
        "    preprocessing_model = create_preprocessing_model(\n",
        "        \"mixedbread-ai/mxbai-embed-large-v1\",\n",
        "        \"cardiffnlp/twitter-roberta-base-sentiment-latest\",\n",
        "        \"SamLowe/roberta-base-go_emotions\",\n",
        "        \"cardiffnlp/tweet-topic-latest-multi\"\n",
        "    )\n",
        "\n",
        "    prev_tweet_embedding, curr_tweet_embedding, prev_tweet_sentiment, curr_tweet_sentiment, prev_reddit_sentiment, prev_tweet_sector, curr_tweet_sector = preprocessing_model(\n",
        "        \"@WholeMarsBlog Headline is misleading. Starlink can obviously offer far more robust positioning than GPS, as it will have ~1000X more satellites over time. Not all will have line of sight to users, but still &gt;10X GPS &amp; far stronger signal. Just not today’s problem.\",\n",
        "        \"@spideycyp_155 @BillyM2k If Russia faced calamitous defeat in conventional warfare for something as strategically critical as Crimea, the probability of using nuclear weapons is high\",\n",
        "        \"We know who controls the media. The same corporations who have wreaked havoc on the globe for decades, if not centuries, the big banks who financed them, and the governments who turned a blind eye to the destruction. The same entities who have brought us to the precipice of destruction - quite possibly condemning us, and our progeny to an unlivable climate They have tried to stop you at every turn, and yet you persist for the good of humanity. We love you, Elon! Keep up the good work! As you have said, we must never let the light of human consciousness fade - never!\"\n",
        "    )\n",
        "\n",
        "    print(\"prev_tweet_embedding:\", prev_tweet_embedding)\n",
        "    print(\"curr_tweet_embedding:\", curr_tweet_embedding)\n",
        "    print(\"prev_tweet_sentiment:\", softmax(prev_tweet_sentiment))\n",
        "    print(\"curr_tweet_sentiment:\", softmax(curr_tweet_sentiment))\n",
        "\n",
        "    print(\"prev_reddit_sentiment:\")\n",
        "    printClassMappings(\"SamLowe/roberta-base-go_emotions\", prev_reddit_sentiment)\n",
        "    print(\"prev_tweet_sector:\")\n",
        "    printClassMappings(\"cardiffnlp/tweet-topic-latest-multi\", prev_tweet_sector)\n",
        "    print(\"curr_tweet_sector:\")\n",
        "    printClassMappings(\"cardiffnlp/tweet-topic-latest-multi\", curr_tweet_sector)\n"
      ]
    },
    {
      "cell_type": "code",
      "execution_count": null,
      "metadata": {
        "colab": {
          "base_uri": "https://localhost:8080/"
        },
        "id": "gEQrY1lLW0bb",
        "outputId": "8eb7baa3-ecd1-41c2-fba1-802c6cfd551b"
      },
      "outputs": [],
      "source": [
        "test()"
      ]
    },
    {
      "cell_type": "code",
      "execution_count": null,
      "metadata": {
        "id": "ztk9qhXRW1N3"
      },
      "outputs": [],
      "source": []
    }
  ],
  "metadata": {
    "colab": {
      "provenance": []
    },
    "kernelspec": {
      "display_name": "Python 3",
      "name": "python3"
    },
    "language_info": {
      "codemirror_mode": {
        "name": "ipython",
        "version": 3
      },
      "file_extension": ".py",
      "mimetype": "text/x-python",
      "name": "python",
      "nbconvert_exporter": "python",
      "pygments_lexer": "ipython3",
      "version": "3.10.0"
    }
  },
  "nbformat": 4,
  "nbformat_minor": 0
}
