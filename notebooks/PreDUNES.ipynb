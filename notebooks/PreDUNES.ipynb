{
  "cells": [
    {
      "cell_type": "code",
      "execution_count": 13,
      "metadata": {
        "colab": {
          "base_uri": "https://localhost:8080/"
        },
        "id": "kUN3F-XE1dqr",
        "outputId": "38d5f67f-aa91-48bc-bbc6-a0b7e1cc0450"
      },
      "outputs": [
        {
          "name": "stdout",
          "output_type": "stream",
          "text": [
            "Requirement already satisfied: sentence-transformers in /home/whitewolf/DeepLearning/dlenv/lib/python3.11/site-packages (2.6.1)\n",
            "Requirement already satisfied: transformers<5.0.0,>=4.32.0 in /home/whitewolf/DeepLearning/dlenv/lib/python3.11/site-packages (from sentence-transformers) (4.39.2)\n",
            "Requirement already satisfied: tqdm in /home/whitewolf/DeepLearning/dlenv/lib/python3.11/site-packages (from sentence-transformers) (4.66.2)\n",
            "Requirement already satisfied: torch>=1.11.0 in /home/whitewolf/DeepLearning/dlenv/lib/python3.11/site-packages (from sentence-transformers) (2.2.1)\n",
            "Requirement already satisfied: numpy in /home/whitewolf/DeepLearning/dlenv/lib/python3.11/site-packages (from sentence-transformers) (1.26.4)\n",
            "Requirement already satisfied: scikit-learn in /home/whitewolf/DeepLearning/dlenv/lib/python3.11/site-packages (from sentence-transformers) (1.4.0)\n",
            "Requirement already satisfied: scipy in /home/whitewolf/DeepLearning/dlenv/lib/python3.11/site-packages (from sentence-transformers) (1.12.0)\n",
            "Requirement already satisfied: huggingface-hub>=0.15.1 in /home/whitewolf/DeepLearning/dlenv/lib/python3.11/site-packages (from sentence-transformers) (0.22.2)\n",
            "Requirement already satisfied: Pillow in /home/whitewolf/DeepLearning/dlenv/lib/python3.11/site-packages (from sentence-transformers) (10.2.0)\n",
            "Requirement already satisfied: filelock in /home/whitewolf/DeepLearning/dlenv/lib/python3.11/site-packages (from huggingface-hub>=0.15.1->sentence-transformers) (3.13.1)\n",
            "Requirement already satisfied: fsspec>=2023.5.0 in /home/whitewolf/DeepLearning/dlenv/lib/python3.11/site-packages (from huggingface-hub>=0.15.1->sentence-transformers) (2024.2.0)\n",
            "Requirement already satisfied: packaging>=20.9 in /home/whitewolf/DeepLearning/dlenv/lib/python3.11/site-packages (from huggingface-hub>=0.15.1->sentence-transformers) (23.2)\n",
            "Requirement already satisfied: pyyaml>=5.1 in /home/whitewolf/DeepLearning/dlenv/lib/python3.11/site-packages (from huggingface-hub>=0.15.1->sentence-transformers) (6.0.1)\n",
            "Requirement already satisfied: requests in /home/whitewolf/DeepLearning/dlenv/lib/python3.11/site-packages (from huggingface-hub>=0.15.1->sentence-transformers) (2.31.0)\n",
            "Requirement already satisfied: typing-extensions>=3.7.4.3 in /home/whitewolf/DeepLearning/dlenv/lib/python3.11/site-packages (from huggingface-hub>=0.15.1->sentence-transformers) (4.10.0)\n",
            "Requirement already satisfied: sympy in /home/whitewolf/DeepLearning/dlenv/lib/python3.11/site-packages (from torch>=1.11.0->sentence-transformers) (1.12)\n",
            "Requirement already satisfied: networkx in /home/whitewolf/DeepLearning/dlenv/lib/python3.11/site-packages (from torch>=1.11.0->sentence-transformers) (3.2.1)\n",
            "Requirement already satisfied: jinja2 in /home/whitewolf/DeepLearning/dlenv/lib/python3.11/site-packages (from torch>=1.11.0->sentence-transformers) (3.1.3)\n",
            "Requirement already satisfied: nvidia-cuda-nvrtc-cu12==12.1.105 in /home/whitewolf/DeepLearning/dlenv/lib/python3.11/site-packages (from torch>=1.11.0->sentence-transformers) (12.1.105)\n",
            "Requirement already satisfied: nvidia-cuda-runtime-cu12==12.1.105 in /home/whitewolf/DeepLearning/dlenv/lib/python3.11/site-packages (from torch>=1.11.0->sentence-transformers) (12.1.105)\n",
            "Requirement already satisfied: nvidia-cuda-cupti-cu12==12.1.105 in /home/whitewolf/DeepLearning/dlenv/lib/python3.11/site-packages (from torch>=1.11.0->sentence-transformers) (12.1.105)\n",
            "Requirement already satisfied: nvidia-cudnn-cu12==8.9.2.26 in /home/whitewolf/DeepLearning/dlenv/lib/python3.11/site-packages (from torch>=1.11.0->sentence-transformers) (8.9.2.26)\n",
            "Requirement already satisfied: nvidia-cublas-cu12==12.1.3.1 in /home/whitewolf/DeepLearning/dlenv/lib/python3.11/site-packages (from torch>=1.11.0->sentence-transformers) (12.1.3.1)\n",
            "Requirement already satisfied: nvidia-cufft-cu12==11.0.2.54 in /home/whitewolf/DeepLearning/dlenv/lib/python3.11/site-packages (from torch>=1.11.0->sentence-transformers) (11.0.2.54)\n",
            "Requirement already satisfied: nvidia-curand-cu12==10.3.2.106 in /home/whitewolf/DeepLearning/dlenv/lib/python3.11/site-packages (from torch>=1.11.0->sentence-transformers) (10.3.2.106)\n",
            "Requirement already satisfied: nvidia-cusolver-cu12==11.4.5.107 in /home/whitewolf/DeepLearning/dlenv/lib/python3.11/site-packages (from torch>=1.11.0->sentence-transformers) (11.4.5.107)\n",
            "Requirement already satisfied: nvidia-cusparse-cu12==12.1.0.106 in /home/whitewolf/DeepLearning/dlenv/lib/python3.11/site-packages (from torch>=1.11.0->sentence-transformers) (12.1.0.106)\n",
            "Requirement already satisfied: nvidia-nccl-cu12==2.19.3 in /home/whitewolf/DeepLearning/dlenv/lib/python3.11/site-packages (from torch>=1.11.0->sentence-transformers) (2.19.3)\n",
            "Requirement already satisfied: nvidia-nvtx-cu12==12.1.105 in /home/whitewolf/DeepLearning/dlenv/lib/python3.11/site-packages (from torch>=1.11.0->sentence-transformers) (12.1.105)\n",
            "Requirement already satisfied: triton==2.2.0 in /home/whitewolf/DeepLearning/dlenv/lib/python3.11/site-packages (from torch>=1.11.0->sentence-transformers) (2.2.0)\n",
            "Requirement already satisfied: nvidia-nvjitlink-cu12 in /home/whitewolf/DeepLearning/dlenv/lib/python3.11/site-packages (from nvidia-cusolver-cu12==11.4.5.107->torch>=1.11.0->sentence-transformers) (12.3.101)\n",
            "Requirement already satisfied: regex!=2019.12.17 in /home/whitewolf/DeepLearning/dlenv/lib/python3.11/site-packages (from transformers<5.0.0,>=4.32.0->sentence-transformers) (2023.12.25)\n",
            "Requirement already satisfied: tokenizers<0.19,>=0.14 in /home/whitewolf/DeepLearning/dlenv/lib/python3.11/site-packages (from transformers<5.0.0,>=4.32.0->sentence-transformers) (0.15.2)\n",
            "Requirement already satisfied: safetensors>=0.4.1 in /home/whitewolf/DeepLearning/dlenv/lib/python3.11/site-packages (from transformers<5.0.0,>=4.32.0->sentence-transformers) (0.4.2)\n",
            "Requirement already satisfied: joblib>=1.2.0 in /home/whitewolf/DeepLearning/dlenv/lib/python3.11/site-packages (from scikit-learn->sentence-transformers) (1.3.2)\n",
            "Requirement already satisfied: threadpoolctl>=2.0.0 in /home/whitewolf/DeepLearning/dlenv/lib/python3.11/site-packages (from scikit-learn->sentence-transformers) (3.3.0)\n",
            "Requirement already satisfied: MarkupSafe>=2.0 in /home/whitewolf/DeepLearning/dlenv/lib/python3.11/site-packages (from jinja2->torch>=1.11.0->sentence-transformers) (2.1.5)\n",
            "Requirement already satisfied: charset-normalizer<4,>=2 in /home/whitewolf/DeepLearning/dlenv/lib/python3.11/site-packages (from requests->huggingface-hub>=0.15.1->sentence-transformers) (3.3.2)\n",
            "Requirement already satisfied: idna<4,>=2.5 in /home/whitewolf/DeepLearning/dlenv/lib/python3.11/site-packages (from requests->huggingface-hub>=0.15.1->sentence-transformers) (3.6)\n",
            "Requirement already satisfied: urllib3<3,>=1.21.1 in /home/whitewolf/DeepLearning/dlenv/lib/python3.11/site-packages (from requests->huggingface-hub>=0.15.1->sentence-transformers) (2.2.1)\n",
            "Requirement already satisfied: certifi>=2017.4.17 in /home/whitewolf/DeepLearning/dlenv/lib/python3.11/site-packages (from requests->huggingface-hub>=0.15.1->sentence-transformers) (2024.2.2)\n",
            "Requirement already satisfied: mpmath>=0.19 in /home/whitewolf/DeepLearning/dlenv/lib/python3.11/site-packages (from sympy->torch>=1.11.0->sentence-transformers) (1.3.0)\n"
          ]
        }
      ],
      "source": [
        "!python -m pip install -U sentence-transformers"
      ]
    },
    {
      "cell_type": "code",
      "execution_count": 14,
      "metadata": {
        "id": "aKCF9Q56ue-G"
      },
      "outputs": [],
      "source": [
        "import numpy as np\n",
        "from typing import Dict"
      ]
    },
    {
      "cell_type": "code",
      "execution_count": 15,
      "metadata": {
        "id": "xVTxTCOfO7Yi"
      },
      "outputs": [],
      "source": [
        "import numpy as np\n",
        "from typing import Dict\n",
        "from scipy.special import expit, softmax\n",
        "\n",
        "import torch\n",
        "import torch.nn as nn\n",
        "from transformers import AutoModel, AutoTokenizer, AutoModelForSequenceClassification\n",
        "from sentence_transformers import SentenceTransformer\n",
        "\n",
        "class PreDUNES(nn.Module):\n",
        "    def __init__(\n",
        "            self,\n",
        "            twitter_embedding_model: nn.Module,\n",
        "            twitter_sentiment_tokenizer,\n",
        "            twitter_sentiment_model: nn.Module,\n",
        "            reddit_sentiment_tokenizer,\n",
        "            reddit_sentiment_model: nn.Module,\n",
        "            twitter_sector_tokenizer,\n",
        "            twitter_sector_model: nn.Module\n",
        "        ):\n",
        "        '''\n",
        "        Initialize a DUNES model from a set of embeddings and sentiment models.\n",
        "        Args:\n",
        "            twitter_embedding_model: huggingface model for Twitter embeddings\n",
        "            twitter_sentiment_model: huggingface model for Twitter sentiment\n",
        "            reddit_sentiment_model: huggingface model for Reddit sentiment\n",
        "            twitter_sector_model: huggingface model for Twitter sector\n",
        "        '''\n",
        "        super(PreDUNES, self).__init__()\n",
        "        self.twitter_embedding_model = twitter_embedding_model\n",
        "        self.twitter_sentiment_tokenizer = twitter_sentiment_tokenizer\n",
        "        self.twitter_sentiment_model = twitter_sentiment_model\n",
        "        self.reddit_sentiment_tokenizer = reddit_sentiment_tokenizer\n",
        "        self.reddit_sentiment_model = reddit_sentiment_model\n",
        "        self.twitter_sector_tokenizer = twitter_sector_tokenizer\n",
        "        self.twitter_sector_model = twitter_sector_model\n",
        "\n",
        "    def forward(self, prev_tweet, prev_reddit):\n",
        "        '''\n",
        "        Forward pass for the DUNES model.\n",
        "        Args:\n",
        "            prev_tweet: previous tweet\n",
        "            curr_tweet: current tweet\n",
        "            prev_reddit: previous Reddit post\n",
        "            curr_reddit: current Reddit post\n",
        "        Returns:\n",
        "            sentiment: sentiment of the current tweet\n",
        "            sector: sector of the current tweet\n",
        "        '''\n",
        "        # Get the embeddings\n",
        "        prev_tweet_embedding = self.twitter_embedding_model.encode([prev_tweet])\n",
        "        \n",
        "\n",
        "        # Get the sentiment\n",
        "        prev_tweet_tokens = self.twitter_sentiment_tokenizer(prev_tweet, return_tensors='pt')\n",
        "        prev_tweet_sentiment = self.twitter_sentiment_model(**prev_tweet_tokens)[0][0].detach().numpy()\n",
        "\n",
        "\n",
        "        prev_reddit_tokens = self.reddit_sentiment_tokenizer(prev_reddit, return_tensors='pt')\n",
        "        prev_reddit_sentiment = self.reddit_sentiment_model(**prev_reddit_tokens)[0][0].detach().numpy()\n",
        "\n",
        "        # Get the sector\n",
        "        prev_sector_tokens = self.twitter_sector_tokenizer(prev_tweet, return_tensors='pt')\n",
        "        prev_tweet_sector = self.twitter_sector_model(**prev_sector_tokens)[0][0].detach().numpy()\n",
        "\n",
        "\n",
        "\n",
        "        return prev_tweet_embedding, prev_tweet_sentiment, prev_reddit_sentiment, prev_tweet_sector\n",
        "\n",
        "\n",
        "def create_preprocessing_model(\n",
        "        twitter_embedding: str,\n",
        "        twitter_sentiment: str,\n",
        "        reddit_sentiment: str,\n",
        "        twitter_sector: str\n",
        "):\n",
        "    '''\n",
        "    Initialize a DUNES model from a set of embeddings and sentiment models.\n",
        "    Feeds the output of these models to a transformer for classification.\n",
        "    Args:\n",
        "        twitter_embedding: path to the Twitter embedding huggingface model\n",
        "        twitter_sentiment: path to the Twitter sentiment huggingface model\n",
        "        reddit_sentiment: path to the Reddit sentiment huggingface model\n",
        "        twitter_sector: path to the Twitter sector huggingface model\n",
        "    '''\n",
        "\n",
        "    # Load the models\n",
        "    twitter_embedding_model = SentenceTransformer(twitter_embedding)\n",
        "    twitter_sentiment_tokenizer = AutoTokenizer.from_pretrained(twitter_sentiment)\n",
        "    twitter_sentiment_model = AutoModelForSequenceClassification.from_pretrained(twitter_sentiment)\n",
        "    reddit_sentiment_tokenizer = AutoTokenizer.from_pretrained(reddit_sentiment)\n",
        "    reddit_sentiment_model = AutoModelForSequenceClassification.from_pretrained(reddit_sentiment)\n",
        "    twitter_sector_tokenizer = AutoTokenizer.from_pretrained(twitter_sector)\n",
        "    twitter_sector_model = AutoModelForSequenceClassification.from_pretrained(twitter_sector)\n",
        "\n",
        "    # Freeze the models\n",
        "    twitter_sentiment_model.eval()\n",
        "    twitter_sentiment_model.requires_grad_(False)\n",
        "    reddit_sentiment_model.eval()\n",
        "    reddit_sentiment_model.requires_grad_(False)\n",
        "    twitter_sector_model.eval()\n",
        "    twitter_sector_model.requires_grad_(False)\n",
        "\n",
        "    # Create the DUNES model\n",
        "    model = PreDUNES(\n",
        "        twitter_embedding_model,\n",
        "        twitter_sentiment_tokenizer,\n",
        "        twitter_sentiment_model,\n",
        "        reddit_sentiment_tokenizer,\n",
        "        reddit_sentiment_model,\n",
        "        twitter_sector_tokenizer,\n",
        "        twitter_sector_model\n",
        "        )\n",
        "\n",
        "    return model\n",
        "\n",
        "def printClassMappings(model, predictions):\n",
        "    class_mapping = AutoModel.from_pretrained(model).config.id2label\n",
        "    predictions = softmax(predictions)\n",
        "    ranking = np.argsort(predictions)\n",
        "    ranking = ranking[::-1]\n",
        "    for i in range(predictions.shape[0]):\n",
        "        l = class_mapping[ranking[i]]\n",
        "        s = predictions[ranking[i]]\n",
        "        print(f\"{i+1}) {l} {np.round(float(s), 4)}\")\n",
        "\n",
        "def test():\n",
        "    preprocessing_model = create_preprocessing_model(\n",
        "        \"mixedbread-ai/mxbai-embed-large-v1\",\n",
        "        \"cardiffnlp/twitter-roberta-base-sentiment-latest\",\n",
        "        \"bhadresh-savani/distilbert-base-uncased-emotion\",\n",
        "        \"cardiffnlp/tweet-topic-latest-multi\"\n",
        "    )\n",
        "\n",
        "    prev_tweet_embedding, prev_tweet_sentiment, prev_reddit_sentiment, prev_tweet_sector = preprocessing_model(\n",
        "        \"@WholeMarsBlog Headline is misleading. Starlink can obviously offer far more robust positioning than GPS, as it will have ~1000X more satellites over time. Not all will have line of sight to users, but still &gt;10X GPS &amp; far stronger signal. Just not today’s problem.\",\n",
        "        \"We know who controls the media. The same corporations who have wreaked havoc on the globe for decades, if not centuries, the big banks who financed them, and the governments who turned a blind eye to the destruction. The same entities who have brought us to the precipice of destruction - quite possibly condemning us, and our progeny to an unlivable climate They have tried to stop you at every turn, and yet you persist for the good of humanity. We love you, Elon! Keep up the good work! As you have said, we must never let the light of human consciousness fade - never!\"\n",
        "    )\n",
        "\n",
        "    print(\"prev_tweet_embedding:\", prev_tweet_embedding)\n",
        "    print(\"prev_tweet_sentiment:\", softmax(prev_tweet_sentiment))\n",
        "    \n",
        "\n",
        "    print(\"prev_reddit_sentiment:\")\n",
        "    printClassMappings(\"bhadresh-savani/distilbert-base-uncased-emotion\", prev_reddit_sentiment)\n",
        "    print(\"prev_tweet_sector:\")\n",
        "    printClassMappings(\"cardiffnlp/tweet-topic-latest-multi\", prev_tweet_sector)\n",
        "\n"
      ]
    },
    {
      "cell_type": "code",
      "execution_count": 16,
      "metadata": {
        "colab": {
          "base_uri": "https://localhost:8080/"
        },
        "id": "gEQrY1lLW0bb",
        "outputId": "8eb7baa3-ecd1-41c2-fba1-802c6cfd551b"
      },
      "outputs": [
        {
          "name": "stderr",
          "output_type": "stream",
          "text": [
            "Some weights of the model checkpoint at cardiffnlp/twitter-roberta-base-sentiment-latest were not used when initializing RobertaForSequenceClassification: ['roberta.pooler.dense.bias', 'roberta.pooler.dense.weight']\n",
            "- This IS expected if you are initializing RobertaForSequenceClassification from the checkpoint of a model trained on another task or with another architecture (e.g. initializing a BertForSequenceClassification model from a BertForPreTraining model).\n",
            "- This IS NOT expected if you are initializing RobertaForSequenceClassification from the checkpoint of a model that you expect to be exactly identical (initializing a BertForSequenceClassification model from a BertForSequenceClassification model).\n"
          ]
        },
        {
          "name": "stdout",
          "output_type": "stream",
          "text": [
            "prev_tweet_embedding: [[ 0.34489495  0.13846159 -0.32645586 ... -0.717675    0.28787875\n",
            "  -0.14000623]]\n",
            "prev_tweet_sentiment: [0.14040029 0.57469934 0.2849003 ]\n",
            "prev_reddit_sentiment:\n",
            "1) anger 0.9387\n",
            "2) sadness 0.0523\n",
            "3) joy 0.0054\n",
            "4) love 0.0019\n",
            "5) fear 0.0014\n",
            "6) surprise 0.0004\n",
            "prev_tweet_sector:\n"
          ]
        },
        {
          "name": "stderr",
          "output_type": "stream",
          "text": [
            "Some weights of RobertaModel were not initialized from the model checkpoint at cardiffnlp/tweet-topic-latest-multi and are newly initialized: ['roberta.pooler.dense.bias', 'roberta.pooler.dense.weight']\n",
            "You should probably TRAIN this model on a down-stream task to be able to use it for predictions and inference.\n"
          ]
        },
        {
          "name": "stdout",
          "output_type": "stream",
          "text": [
            "1) science_&_technology 0.9853\n",
            "2) news_&_social_concern 0.0066\n",
            "3) business_&_entrepreneurs 0.0027\n",
            "4) other_hobbies 0.0008\n",
            "5) diaries_&_daily_life 0.0007\n",
            "6) learning_&_educational 0.0006\n",
            "7) film_tv_&_video 0.0005\n",
            "8) fitness_&_health 0.0004\n",
            "9) celebrity_&_pop_culture 0.0004\n",
            "10) gaming 0.0003\n",
            "11) travel_&_adventure 0.0003\n",
            "12) sports 0.0002\n",
            "13) relationships 0.0002\n",
            "14) youth_&_student_life 0.0002\n",
            "15) music 0.0002\n",
            "16) food_&_dining 0.0002\n",
            "17) arts_&_culture 0.0002\n",
            "18) family 0.0002\n",
            "19) fashion_&_style 0.0001\n"
          ]
        }
      ],
      "source": [
        "test()"
      ]
    },
    {
      "cell_type": "code",
      "execution_count": null,
      "metadata": {
        "id": "ztk9qhXRW1N3"
      },
      "outputs": [],
      "source": []
    }
  ],
  "metadata": {
    "colab": {
      "provenance": []
    },
    "kernelspec": {
      "display_name": "Python 3",
      "name": "python3"
    },
    "language_info": {
      "codemirror_mode": {
        "name": "ipython",
        "version": 3
      },
      "file_extension": ".py",
      "mimetype": "text/x-python",
      "name": "python",
      "nbconvert_exporter": "python",
      "pygments_lexer": "ipython3",
      "version": "3.11.6"
    }
  },
  "nbformat": 4,
  "nbformat_minor": 0
}
