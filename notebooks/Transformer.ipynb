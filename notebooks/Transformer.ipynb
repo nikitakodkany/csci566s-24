{
  "cells": [
    {
      "cell_type": "code",
      "execution_count": 18,
      "metadata": {
        "colab": {
          "base_uri": "https://localhost:8080/"
        },
        "id": "kUN3F-XE1dqr",
        "outputId": "38d5f67f-aa91-48bc-bbc6-a0b7e1cc0450"
      },
      "outputs": [
        {
          "name": "stdout",
          "output_type": "stream",
          "text": [
            "Requirement already satisfied: sentence-transformers in c:\\users\\nikit\\appdata\\local\\programs\\python\\python310\\lib\\site-packages (2.6.1)\n",
            "Requirement already satisfied: transformers<5.0.0,>=4.32.0 in c:\\users\\nikit\\appdata\\local\\programs\\python\\python310\\lib\\site-packages (from sentence-transformers) (4.39.1)\n",
            "Requirement already satisfied: tqdm in c:\\users\\nikit\\appdata\\local\\programs\\python\\python310\\lib\\site-packages (from sentence-transformers) (4.66.2)\n",
            "Requirement already satisfied: torch>=1.11.0 in c:\\users\\nikit\\appdata\\local\\programs\\python\\python310\\lib\\site-packages (from sentence-transformers) (2.2.1)\n",
            "Requirement already satisfied: numpy in c:\\users\\nikit\\appdata\\local\\programs\\python\\python310\\lib\\site-packages (from sentence-transformers) (1.26.4)\n",
            "Requirement already satisfied: scikit-learn in c:\\users\\nikit\\appdata\\local\\programs\\python\\python310\\lib\\site-packages (from sentence-transformers) (1.4.1.post1)\n",
            "Requirement already satisfied: scipy in c:\\users\\nikit\\appdata\\local\\programs\\python\\python310\\lib\\site-packages (from sentence-transformers) (1.12.0)\n",
            "Requirement already satisfied: huggingface-hub>=0.15.1 in c:\\users\\nikit\\appdata\\local\\programs\\python\\python310\\lib\\site-packages (from sentence-transformers) (0.22.1)\n",
            "Requirement already satisfied: Pillow in c:\\users\\nikit\\appdata\\local\\programs\\python\\python310\\lib\\site-packages (from sentence-transformers) (10.2.0)\n",
            "Requirement already satisfied: filelock in c:\\users\\nikit\\appdata\\local\\programs\\python\\python310\\lib\\site-packages (from huggingface-hub>=0.15.1->sentence-transformers) (3.13.3)\n",
            "Requirement already satisfied: fsspec>=2023.5.0 in c:\\users\\nikit\\appdata\\local\\programs\\python\\python310\\lib\\site-packages (from huggingface-hub>=0.15.1->sentence-transformers) (2024.3.1)\n",
            "Requirement already satisfied: packaging>=20.9 in c:\\users\\nikit\\appdata\\roaming\\python\\python310\\site-packages (from huggingface-hub>=0.15.1->sentence-transformers) (23.2)\n",
            "Requirement already satisfied: pyyaml>=5.1 in c:\\users\\nikit\\appdata\\local\\programs\\python\\python310\\lib\\site-packages (from huggingface-hub>=0.15.1->sentence-transformers) (6.0.1)\n",
            "Requirement already satisfied: requests in c:\\users\\nikit\\appdata\\local\\programs\\python\\python310\\lib\\site-packages (from huggingface-hub>=0.15.1->sentence-transformers) (2.31.0)\n",
            "Requirement already satisfied: typing-extensions>=3.7.4.3 in c:\\users\\nikit\\appdata\\local\\programs\\python\\python310\\lib\\site-packages (from huggingface-hub>=0.15.1->sentence-transformers) (4.10.0)\n",
            "Requirement already satisfied: sympy in c:\\users\\nikit\\appdata\\local\\programs\\python\\python310\\lib\\site-packages (from torch>=1.11.0->sentence-transformers) (1.12)\n",
            "Requirement already satisfied: networkx in c:\\users\\nikit\\appdata\\local\\programs\\python\\python310\\lib\\site-packages (from torch>=1.11.0->sentence-transformers) (3.2.1)\n",
            "Requirement already satisfied: jinja2 in c:\\users\\nikit\\appdata\\local\\programs\\python\\python310\\lib\\site-packages (from torch>=1.11.0->sentence-transformers) (3.1.3)\n",
            "Requirement already satisfied: colorama in c:\\users\\nikit\\appdata\\roaming\\python\\python310\\site-packages (from tqdm->sentence-transformers) (0.4.6)\n",
            "Requirement already satisfied: regex!=2019.12.17 in c:\\users\\nikit\\appdata\\local\\programs\\python\\python310\\lib\\site-packages (from transformers<5.0.0,>=4.32.0->sentence-transformers) (2023.12.25)\n",
            "Requirement already satisfied: tokenizers<0.19,>=0.14 in c:\\users\\nikit\\appdata\\local\\programs\\python\\python310\\lib\\site-packages (from transformers<5.0.0,>=4.32.0->sentence-transformers) (0.15.2)\n",
            "Requirement already satisfied: safetensors>=0.4.1 in c:\\users\\nikit\\appdata\\local\\programs\\python\\python310\\lib\\site-packages (from transformers<5.0.0,>=4.32.0->sentence-transformers) (0.4.2)\n",
            "Requirement already satisfied: joblib>=1.2.0 in c:\\users\\nikit\\appdata\\local\\programs\\python\\python310\\lib\\site-packages (from scikit-learn->sentence-transformers) (1.3.2)\n",
            "Requirement already satisfied: threadpoolctl>=2.0.0 in c:\\users\\nikit\\appdata\\local\\programs\\python\\python310\\lib\\site-packages (from scikit-learn->sentence-transformers) (3.4.0)\n",
            "Requirement already satisfied: MarkupSafe>=2.0 in c:\\users\\nikit\\appdata\\local\\programs\\python\\python310\\lib\\site-packages (from jinja2->torch>=1.11.0->sentence-transformers) (2.1.5)\n",
            "Requirement already satisfied: charset-normalizer<4,>=2 in c:\\users\\nikit\\appdata\\local\\programs\\python\\python310\\lib\\site-packages (from requests->huggingface-hub>=0.15.1->sentence-transformers) (3.3.2)\n",
            "Requirement already satisfied: idna<4,>=2.5 in c:\\users\\nikit\\appdata\\local\\programs\\python\\python310\\lib\\site-packages (from requests->huggingface-hub>=0.15.1->sentence-transformers) (3.6)\n",
            "Requirement already satisfied: urllib3<3,>=1.21.1 in c:\\users\\nikit\\appdata\\local\\programs\\python\\python310\\lib\\site-packages (from requests->huggingface-hub>=0.15.1->sentence-transformers) (2.2.1)\n",
            "Requirement already satisfied: certifi>=2017.4.17 in c:\\users\\nikit\\appdata\\local\\programs\\python\\python310\\lib\\site-packages (from requests->huggingface-hub>=0.15.1->sentence-transformers) (2024.2.2)\n",
            "Requirement already satisfied: mpmath>=0.19 in c:\\users\\nikit\\appdata\\local\\programs\\python\\python310\\lib\\site-packages (from sympy->torch>=1.11.0->sentence-transformers) (1.3.0)\n"
          ]
        }
      ],
      "source": [
        "!python -m pip install -U sentence-transformers"
      ]
    },
    {
      "cell_type": "code",
      "execution_count": 19,
      "metadata": {
        "id": "aKCF9Q56ue-G"
      },
      "outputs": [],
      "source": [
        "import math\n",
        "import numpy as np\n",
        "from typing import Dict\n",
        "from scipy.special import expit, softmax\n",
        "\n",
        "\n",
        "import torch\n",
        "import torch.nn as nn\n",
        "from torch.optim import Adam\n",
        "import torch.nn.functional as F\n",
        "from torch.nn.functional import softmax\n",
        "from torch.utils.data import Dataset, DataLoader\n",
        "from sentence_transformers import SentenceTransformer\n",
        "from transformers import AutoModel, AutoTokenizer, AutoModelForSequenceClassification"
      ]
    },
    {
      "cell_type": "code",
      "execution_count": 31,
      "metadata": {
        "id": "mmpWO07qaY1q"
      },
      "outputs": [],
      "source": [
        "class PreDUNES(nn.Module):\n",
        "    def __init__(self, twitter_embedding_model, twitter_sentiment_tokenizer, twitter_sentiment_model, reddit_sentiment_tokenizer, reddit_sentiment_model, twitter_sector_tokenizer, twitter_sector_model):\n",
        "        super(PreDUNES, self).__init__()\n",
        "        self.twitter_embedding_model = twitter_embedding_model\n",
        "        self.twitter_sentiment_tokenizer = twitter_sentiment_tokenizer\n",
        "        self.twitter_sentiment_model = twitter_sentiment_model\n",
        "        self.reddit_sentiment_tokenizer = reddit_sentiment_tokenizer\n",
        "        self.reddit_sentiment_model = reddit_sentiment_model\n",
        "        self.twitter_sector_tokenizer = twitter_sector_tokenizer\n",
        "        self.twitter_sector_model = twitter_sector_model\n",
        "\n",
        "    def forward(self, prev_tweet, prev_reddit):\n",
        "        prev_tweet_embedding = self.twitter_embedding_model.encode([prev_tweet], convert_to_tensor=True)\n",
        "        prev_tweet_tokens = self.twitter_sentiment_tokenizer(prev_tweet, return_tensors='pt')\n",
        "        prev_tweet_sentiment = self.twitter_sentiment_model(**prev_tweet_tokens).logits\n",
        "        \n",
        "        # Check if prev_reddit is None and handle accordingly\n",
        "        if prev_reddit is not None:\n",
        "            prev_reddit_tokens = self.reddit_sentiment_tokenizer(prev_reddit, return_tensors='pt')\n",
        "            prev_reddit_sentiment = self.reddit_sentiment_model(**prev_reddit_tokens).logits\n",
        "        else:\n",
        "            # Assuming the output size of your model to match when prev_reddit is not None\n",
        "            # Adjust the size to match your actual model output\n",
        "            prev_reddit_sentiment = torch.zeros_like(prev_tweet_sentiment) # Adjust this line as needed\n",
        "        \n",
        "        prev_sector_tokens = self.twitter_sector_tokenizer(prev_tweet, return_tensors='pt')\n",
        "        prev_tweet_sector = self.twitter_sector_model(**prev_sector_tokens).logits\n",
        "\n",
        "        return prev_tweet_embedding, prev_tweet_sentiment, prev_reddit_sentiment, prev_tweet_sector\n",
        "\n",
        "def create_preprocessing_model(twitter_embedding, twitter_sentiment, reddit_sentiment, twitter_sector):\n",
        "    twitter_embedding_model = SentenceTransformer(twitter_embedding)\n",
        "    twitter_sentiment_tokenizer = AutoTokenizer.from_pretrained(twitter_sentiment)\n",
        "    twitter_sentiment_model = AutoModelForSequenceClassification.from_pretrained(twitter_sentiment)\n",
        "    reddit_sentiment_tokenizer = AutoTokenizer.from_pretrained(reddit_sentiment)\n",
        "    reddit_sentiment_model = AutoModelForSequenceClassification.from_pretrained(reddit_sentiment)\n",
        "    twitter_sector_tokenizer = AutoTokenizer.from_pretrained(twitter_sector)\n",
        "    twitter_sector_model = AutoModelForSequenceClassification.from_pretrained(twitter_sector)\n",
        "\n",
        "    # Set models to evaluation mode\n",
        "    twitter_sentiment_model.eval()\n",
        "    reddit_sentiment_model.eval()\n",
        "    twitter_sector_model.eval()\n",
        "\n",
        "    # Disable gradients for models\n",
        "    for model in [twitter_sentiment_model, reddit_sentiment_model, twitter_sector_model]:\n",
        "        for param in model.parameters():\n",
        "            param.requires_grad = False\n",
        "\n",
        "    model = PreDUNES(\n",
        "        twitter_embedding_model,\n",
        "        twitter_sentiment_tokenizer,\n",
        "        twitter_sentiment_model,\n",
        "        reddit_sentiment_tokenizer,\n",
        "        reddit_sentiment_model,\n",
        "        twitter_sector_tokenizer,\n",
        "        twitter_sector_model\n",
        "    )\n",
        "\n",
        "    return model"
      ]
    },
    {
      "cell_type": "code",
      "execution_count": 32,
      "metadata": {},
      "outputs": [
        {
          "name": "stderr",
          "output_type": "stream",
          "text": [
            "Some weights of the model checkpoint at cardiffnlp/twitter-roberta-base-sentiment-latest were not used when initializing RobertaForSequenceClassification: ['roberta.pooler.dense.bias', 'roberta.pooler.dense.weight']\n",
            "- This IS expected if you are initializing RobertaForSequenceClassification from the checkpoint of a model trained on another task or with another architecture (e.g. initializing a BertForSequenceClassification model from a BertForPreTraining model).\n",
            "- This IS NOT expected if you are initializing RobertaForSequenceClassification from the checkpoint of a model that you expect to be exactly identical (initializing a BertForSequenceClassification model from a BertForSequenceClassification model).\n"
          ]
        }
      ],
      "source": [
        "preprocessing_model = create_preprocessing_model(\n",
        "    \"mixedbread-ai/mxbai-embed-large-v1\",\n",
        "    \"cardiffnlp/twitter-roberta-base-sentiment-latest\",\n",
        "    \"bhadresh-savani/distilbert-base-uncased-emotion\",\n",
        "    \"cardiffnlp/tweet-topic-latest-multi\"\n",
        ")"
      ]
    },
    {
      "cell_type": "code",
      "execution_count": 42,
      "metadata": {},
      "outputs": [],
      "source": [
        "class DataLoaderDUNES(Dataset):\n",
        "    def __init__(self, data, preprocessing_model, seq_len=5, stride=1):\n",
        "        self.data = data\n",
        "        self.preprocessing_model = preprocessing_model\n",
        "        self.seq_len = seq_len\n",
        "        self.stride = stride\n",
        "        self.vector_size = 1024 + 3 + 6 + 19 + 5\n",
        "    \n",
        "    def calculate_vector_size(self):\n",
        "        sample = self.data[0]\n",
        "        outputs = self.preprocessing_model(sample['prev_tweet'], sample['prev_reddit'])\n",
        "        total_size = sum(output.size(-1) for output in outputs)\n",
        "        return total_size\n",
        "    \n",
        "    def __len__(self):\n",
        "        return max(0, ((len(self.data) - self.seq_len) // self.stride) + 1)\n",
        "    \n",
        "    def __getitem__(self, idx):\n",
        "        seq_features = torch.zeros((self.seq_len, self.vector_size))\n",
        "        start_idx = idx * self.stride\n",
        "\n",
        "        for i in range(self.seq_len):\n",
        "            data_idx = start_idx + i\n",
        "            if data_idx < len(self.data):\n",
        "                item = self.data[data_idx]\n",
        "\n",
        "                if i == self.seq_len - 1:  # Masking for nth tweet\n",
        "                    prev_tweet_embedding, prev_tweet_sentiment, _, _ = self.preprocessing_model(item['prev_tweet'], None)\n",
        "                    # Ensure prev_tweet_embedding is flattened to match dimensions\n",
        "                    prev_tweet_embedding = prev_tweet_embedding.view(-1)  \n",
        "                    prev_tweet_sentiment = prev_tweet_sentiment.view(-1)  \n",
        "                    # Create a mask tensor with the appropriate length\n",
        "                    mask_tensor = torch.zeros(self.vector_size - prev_tweet_embedding.size(0) - prev_tweet_sentiment.size(0))\n",
        "                    all_features = torch.cat([prev_tweet_embedding, prev_tweet_sentiment, mask_tensor])\n",
        "                else:\n",
        "                    prev_tweet_embedding, prev_tweet_sentiment, prev_reddit_sentiment, prev_tweet_sector = self.preprocessing_model(item['prev_tweet'], item['prev_reddit'])\n",
        "                    # Flatten and concatenate all features\n",
        "                    prev_tweet_embedding = prev_tweet_embedding.view(-1)\n",
        "                    prev_tweet_sentiment = prev_tweet_sentiment.view(-1)\n",
        "                    prev_reddit_sentiment = prev_reddit_sentiment.view(-1)\n",
        "                    prev_tweet_sector = prev_tweet_sector.view(-1)\n",
        "                    additional_data = torch.tensor([item['likes'], item['retweets'], item['comments'], item['reddit_score'], item['rcomments']], dtype=torch.float).view(-1)\n",
        "                    all_features = torch.cat([prev_tweet_embedding, prev_tweet_sentiment, prev_reddit_sentiment, prev_tweet_sector, additional_data])\n",
        "\n",
        "                seq_features[i, :all_features.size(0)] = all_features\n",
        "\n",
        "        return seq_features.unsqueeze(0) "
      ]
    },
    {
      "cell_type": "code",
      "execution_count": 43,
      "metadata": {},
      "outputs": [],
      "source": [
        "data = [\n",
        "    {\n",
        "        'prev_tweet': \"@WholeMarsBlog Headline is misleading. Starlink can obviously offer far more robust positioning than GPS, as it will have ~1000X more satellites over time. Not all will have line of sight to users, but still >10X GPS & far stronger signal. Just not today’s problem.\",\n",
        "        'curr_tweet': \"@spideycyp_155 @BillyM2k If Russia faced calamitous defeat in conventional warfare for something as strategically critical as Crimea, the probability of using nuclear weapons is high\",\n",
        "        'prev_reddit': \"We know who controls the media. The same corporations who have wreaked havoc on the globe for decades, if not centuries, the big banks who financed them, and the governments who turned a blind eye to the destruction. The same entities who have brought us to the precipice of destruction - quite possibly condemning us, and our progeny to an unlivable climate They have tried to stop you at every turn, and yet you persist for the good of humanity. We love you, Elon! Keep up the good work! As you have said, we must never let the light of human consciousness fade - never!\",\n",
        "        'likes': 100,  \n",
        "        'retweets': 50, \n",
        "        'comments': 25,\n",
        "        'reddit_score': 0.8,\n",
        "        'rcomments': 45          \n",
        "    }\n",
        "]"
      ]
    },
    {
      "cell_type": "code",
      "execution_count": 44,
      "metadata": {},
      "outputs": [
        {
          "name": "stdout",
          "output_type": "stream",
          "text": [
            "Dataset length: 1\n"
          ]
        }
      ],
      "source": [
        "dataset = DataLoaderDUNES(data, preprocessing_model, seq_len=1, stride=1)  #for immediate testing of first data point\n",
        "print(\"Dataset length:\", len(dataset))\n",
        "dataloader = DataLoader(dataset, batch_size=1, shuffle=True)"
      ]
    },
    {
      "cell_type": "code",
      "execution_count": 45,
      "metadata": {},
      "outputs": [],
      "source": [
        "class PositionalEncoding(nn.Module):\n",
        "    def __init__(self, d_model, dropout=0.1, max_len=5000):\n",
        "        super(PositionalEncoding, self).__init__()\n",
        "        self.dropout = nn.Dropout(p=dropout)\n",
        "\n",
        "        position = torch.arange(0, max_len, dtype=torch.float).unsqueeze(1)\n",
        "        div_term = torch.exp(torch.arange(0, d_model, 2).float() * (-math.log(10000.0) / d_model))\n",
        "        pe = torch.zeros(max_len, 1, d_model)\n",
        "        pe[:, 0, 0::2] = torch.sin(position * div_term)\n",
        "        pe[:, 0, 1::2] = torch.cos(position * div_term)\n",
        "        self.register_buffer('pe', pe)\n",
        "\n",
        "    def forward(self, x):\n",
        "        x = x + self.pe[:x.size(0)]\n",
        "        return self.dropout(x)"
      ]
    },
    {
      "cell_type": "code",
      "execution_count": 46,
      "metadata": {},
      "outputs": [],
      "source": [
        "class TransformerModel(nn.Module):\n",
        "    def __init__(self, input_vector_size, d_model, nhead, num_encoder_layers, dim_feedforward, num_outputs):\n",
        "        super(TransformerModel, self).__init__()\n",
        "        self.positional_encoder = PositionalEncoding(d_model)\n",
        "        self.input_projection = nn.Linear(input_vector_size, d_model)  \n",
        "        encoder_layer = nn.TransformerEncoderLayer(d_model=d_model, nhead=nhead, dim_feedforward=dim_feedforward)\n",
        "        self.transformer_encoder = nn.TransformerEncoder(encoder_layer, num_layers=num_encoder_layers)\n",
        "        self.output_linear = nn.Linear(d_model, num_outputs)\n",
        "\n",
        "    def forward(self, x):\n",
        "        batch_size, seq_len, vector_size = x.size()\n",
        "        x = x.view(batch_size * seq_len, vector_size) \n",
        "        x = self.input_projection(x)  \n",
        "        x = x.view(batch_size, seq_len, -1)  \n",
        "        x = self.positional_encoder(x)\n",
        "        x = torch.mean(self.transformer_encoder(x), dim=1)  \n",
        "        return self.output_linear(x)"
      ]
    },
    {
      "cell_type": "code",
      "execution_count": 47,
      "metadata": {},
      "outputs": [],
      "source": [
        "input_vector_size = 1024 + 3 + 6 + 19 + 5\n",
        "model = TransformerModel(\n",
        "    input_vector_size= input_vector_size,  \n",
        "    d_model=512,\n",
        "    nhead=8,\n",
        "    num_encoder_layers=3,\n",
        "    dim_feedforward=2048,\n",
        "    num_outputs=3\n",
        ")"
      ]
    },
    {
      "cell_type": "code",
      "execution_count": 48,
      "metadata": {},
      "outputs": [
        {
          "name": "stdout",
          "output_type": "stream",
          "text": [
            "input_projection.weight: torch.Size([512, 1057])\n",
            "input_projection.bias: torch.Size([512])\n",
            "transformer_encoder.layers.0.self_attn.in_proj_weight: torch.Size([1536, 512])\n",
            "transformer_encoder.layers.0.self_attn.in_proj_bias: torch.Size([1536])\n",
            "transformer_encoder.layers.0.self_attn.out_proj.weight: torch.Size([512, 512])\n",
            "transformer_encoder.layers.0.self_attn.out_proj.bias: torch.Size([512])\n",
            "transformer_encoder.layers.0.linear1.weight: torch.Size([2048, 512])\n",
            "transformer_encoder.layers.0.linear1.bias: torch.Size([2048])\n",
            "transformer_encoder.layers.0.linear2.weight: torch.Size([512, 2048])\n",
            "transformer_encoder.layers.0.linear2.bias: torch.Size([512])\n",
            "transformer_encoder.layers.0.norm1.weight: torch.Size([512])\n",
            "transformer_encoder.layers.0.norm1.bias: torch.Size([512])\n",
            "transformer_encoder.layers.0.norm2.weight: torch.Size([512])\n",
            "transformer_encoder.layers.0.norm2.bias: torch.Size([512])\n",
            "transformer_encoder.layers.1.self_attn.in_proj_weight: torch.Size([1536, 512])\n",
            "transformer_encoder.layers.1.self_attn.in_proj_bias: torch.Size([1536])\n",
            "transformer_encoder.layers.1.self_attn.out_proj.weight: torch.Size([512, 512])\n",
            "transformer_encoder.layers.1.self_attn.out_proj.bias: torch.Size([512])\n",
            "transformer_encoder.layers.1.linear1.weight: torch.Size([2048, 512])\n",
            "transformer_encoder.layers.1.linear1.bias: torch.Size([2048])\n",
            "transformer_encoder.layers.1.linear2.weight: torch.Size([512, 2048])\n",
            "transformer_encoder.layers.1.linear2.bias: torch.Size([512])\n",
            "transformer_encoder.layers.1.norm1.weight: torch.Size([512])\n",
            "transformer_encoder.layers.1.norm1.bias: torch.Size([512])\n",
            "transformer_encoder.layers.1.norm2.weight: torch.Size([512])\n",
            "transformer_encoder.layers.1.norm2.bias: torch.Size([512])\n",
            "transformer_encoder.layers.2.self_attn.in_proj_weight: torch.Size([1536, 512])\n",
            "transformer_encoder.layers.2.self_attn.in_proj_bias: torch.Size([1536])\n",
            "transformer_encoder.layers.2.self_attn.out_proj.weight: torch.Size([512, 512])\n",
            "transformer_encoder.layers.2.self_attn.out_proj.bias: torch.Size([512])\n",
            "transformer_encoder.layers.2.linear1.weight: torch.Size([2048, 512])\n",
            "transformer_encoder.layers.2.linear1.bias: torch.Size([2048])\n",
            "transformer_encoder.layers.2.linear2.weight: torch.Size([512, 2048])\n",
            "transformer_encoder.layers.2.linear2.bias: torch.Size([512])\n",
            "transformer_encoder.layers.2.norm1.weight: torch.Size([512])\n",
            "transformer_encoder.layers.2.norm1.bias: torch.Size([512])\n",
            "transformer_encoder.layers.2.norm2.weight: torch.Size([512])\n",
            "transformer_encoder.layers.2.norm2.bias: torch.Size([512])\n",
            "output_linear.weight: torch.Size([3, 512])\n",
            "output_linear.bias: torch.Size([3])\n"
          ]
        }
      ],
      "source": [
        "for name, param in model.named_parameters():\n",
        "    print(f\"{name}: {param.size()}\")"
      ]
    },
    {
      "cell_type": "code",
      "execution_count": 49,
      "metadata": {},
      "outputs": [],
      "source": [
        "criterion = nn.MSELoss()\n",
        "optimizer = Adam(model.parameters(), lr=0.001)\n",
        "num_epochs = 25"
      ]
    },
    {
      "cell_type": "code",
      "execution_count": 50,
      "metadata": {},
      "outputs": [
        {
          "name": "stdout",
          "output_type": "stream",
          "text": [
            "Epoch 1/25, Train Loss: 0.4729\n",
            "Epoch 2/25, Train Loss: 26.6415\n",
            "Epoch 3/25, Train Loss: 0.2236\n",
            "Epoch 4/25, Train Loss: 7.8322\n",
            "Epoch 5/25, Train Loss: 1.5561\n",
            "Epoch 6/25, Train Loss: 0.2129\n",
            "Epoch 7/25, Train Loss: 1.8740\n",
            "Epoch 8/25, Train Loss: 0.4229\n",
            "Epoch 9/25, Train Loss: 0.0544\n",
            "Epoch 10/25, Train Loss: 0.1320\n",
            "Epoch 11/25, Train Loss: 0.4239\n",
            "Epoch 12/25, Train Loss: 0.3654\n",
            "Epoch 13/25, Train Loss: 0.1770\n",
            "Epoch 14/25, Train Loss: 0.0589\n",
            "Epoch 15/25, Train Loss: 0.0998\n",
            "Epoch 16/25, Train Loss: 0.1303\n",
            "Epoch 17/25, Train Loss: 0.1896\n",
            "Epoch 18/25, Train Loss: 0.2706\n",
            "Epoch 19/25, Train Loss: 0.0901\n",
            "Epoch 20/25, Train Loss: 0.0684\n",
            "Epoch 21/25, Train Loss: 0.0404\n",
            "Epoch 22/25, Train Loss: 0.0831\n",
            "Epoch 23/25, Train Loss: 0.1283\n",
            "Epoch 24/25, Train Loss: 0.0726\n",
            "Epoch 25/25, Train Loss: 0.2821\n"
          ]
        }
      ],
      "source": [
        "for epoch in range(num_epochs):\n",
        "    model.train()  \n",
        "    train_loss = 0.0\n",
        "\n",
        "    for batch in dataloader:\n",
        "        optimizer.zero_grad()\n",
        "        batch = batch.squeeze(0)\n",
        "        inputs = batch[:, :, :]  \n",
        "        targets = batch[:, -1, -5:-2]  # Assuming these are structured at the end of each sequence\n",
        "\n",
        "        outputs = model(inputs)\n",
        "\n",
        "        # Calculate loss between the model's predictions and the actual engagement metrics\n",
        "        loss = criterion(outputs, targets)\n",
        "        loss.backward()\n",
        "        optimizer.step()\n",
        "        train_loss += loss.item()\n",
        "\n",
        "    avg_train_loss = train_loss / len(dataloader)\n",
        "    print(f'Epoch {epoch+1}/{num_epochs}, Train Loss: {avg_train_loss:.4f}')\n"
      ]
    },
    {
      "cell_type": "code",
      "execution_count": null,
      "metadata": {},
      "outputs": [],
      "source": [
        "# Prediction phase\n",
        "model.eval()  # Set the model to evaluation mode\n",
        "with torch.no_grad():  # Disable gradient calculation\n",
        "    total_predictions = []\n",
        "    total_targets = []\n",
        "    for batch in validation_dataloader:\n",
        "        features = {\n",
        "            'prev_tweet_embedding': batch['prev_tweet_embedding'],\n",
        "            'prev_tweet_sentiment': batch['prev_tweet_sentiment'],\n",
        "            'prev_reddit_sentiment': batch['prev_reddit_sentiment'],\n",
        "            'prev_tweet_sector': batch['prev_tweet_sector'],\n",
        "        }\n",
        "        targets = torch.stack((batch['likes'], batch['retweets'], batch['comments']), dim=1)\n",
        "        predictions = model(features)\n",
        "        total_predictions.append(predictions)\n",
        "        total_targets.append(targets)\n",
        "    \n",
        "    # Conversion to numpy for analysis (optional)\n",
        "    predictions_np = torch.cat(total_predictions, dim=0).cpu().numpy()\n",
        "    targets_np = torch.cat(total_targets, dim=0).cpu().numpy()\n",
        "    # Use predictions_np and targets_np for further analysis\n"
      ]
    }
  ],
  "metadata": {
    "colab": {
      "provenance": []
    },
    "kernelspec": {
      "display_name": "Python 3",
      "name": "python3"
    },
    "language_info": {
      "codemirror_mode": {
        "name": "ipython",
        "version": 3
      },
      "file_extension": ".py",
      "mimetype": "text/x-python",
      "name": "python",
      "nbconvert_exporter": "python",
      "pygments_lexer": "ipython3",
      "version": "3.10.0"
    }
  },
  "nbformat": 4,
  "nbformat_minor": 0
}
