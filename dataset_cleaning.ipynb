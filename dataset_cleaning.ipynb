{
 "cells": [
  {
   "cell_type": "code",
   "execution_count": null,
   "metadata": {},
   "outputs": [],
   "source": [
    "import pandas as pd\n",
    "\n",
    "# Generate dataset file names or paths, assuming they are named '1.csv', '2.csv', etc.\n",
    "datasets = [f'{i}.csv' for i in range(1, 16)]  # This will create a list from '1.csv' to '12.csv'\n",
    "\n",
    "# Read and combine all datasets into one DataFrame\n",
    "combined_df = pd.concat([pd.read_csv(f) for f in datasets], ignore_index=True)\n",
    "\n",
    "# If you need to save the combined dataset to a new file\n",
    "combined_df.to_csv('combined_dataset.csv', index=False)\n"
   ]
  }
 ],
 "metadata": {
  "kernelspec": {
   "display_name": "Python 3",
   "language": "python",
   "name": "python3"
  },
  "language_info": {
   "name": "python",
   "version": "3.8.8"
  }
 },
 "nbformat": 4,
 "nbformat_minor": 2
}
